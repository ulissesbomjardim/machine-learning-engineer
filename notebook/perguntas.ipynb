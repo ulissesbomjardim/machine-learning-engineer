{
 "cells": [
  {
   "cell_type": "code",
   "execution_count": 0,
   "metadata": {
    "application/vnd.databricks.v1+cell": {
     "cellMetadata": {
      "byteLimit": 2048000,
      "rowLimit": 10000
     },
     "inputWidgets": {},
     "nuid": "4624daa4-8480-426f-82b5-9083ed0e14be",
     "showTitle": false,
     "tableResultSettingsMap": {},
     "title": ""
    }
   },
   "outputs": [],
   "source": [
    "from pyspark.sql.functions import (\n",
    "    avg,\n",
    "    col,\n",
    "    date_format,\n",
    "    dayofweek,\n",
    "    format_number,\n",
    "    stddev,\n",
    "    to_date,\n",
    "    row_number,\n",
    ")\n",
    "from pyspark.sql.window import Window"
   ]
  },
  {
   "cell_type": "code",
   "execution_count": 0,
   "metadata": {
    "application/vnd.databricks.v1+cell": {
     "cellMetadata": {
      "byteLimit": 2048000,
      "rowLimit": 10000
     },
     "inputWidgets": {},
     "nuid": "764e5765-33d2-4551-adea-555cd9903b98",
     "showTitle": false,
     "tableResultSettingsMap": {},
     "title": ""
    }
   },
   "outputs": [
    {
     "output_type": "stream",
     "name": "stdout",
     "output_type": "stream",
     "text": [
      "\nDataFrame criado com sucesso!\n"
     ]
    }
   ],
   "source": [
    "# 1. Variáveis de Caminho\n",
    "# Caminho de destino no Volume do Unity Catalog (UC)\n",
    "UC_VOLUME_PATH = '/Volumes/airports_database/default/airports_database/'\n",
    "CSV_FILE_NAME = 'airports-database.csv'\n",
    "FINAL_UC_PATH = UC_VOLUME_PATH + CSV_FILE_NAME\n",
    "\n",
    "# 2. Criar o DataFrame (DF) a partir do Volume UC\n",
    "df_aeroportos = (spark.read\n",
    "  .format(\"csv\")\n",
    "  .option(\"header\", \"true\")\n",
    "  .option(\"inferSchema\", \"true\")\n",
    "  .load(FINAL_UC_PATH)\n",
    ")\n",
    "\n",
    "print(\"\\nDataFrame criado com sucesso!\")"
   ]
  },
  {
   "cell_type": "code",
   "execution_count": 0,
   "metadata": {
    "application/vnd.databricks.v1+cell": {
     "cellMetadata": {
      "byteLimit": 2048000,
      "rowLimit": 10000
     },
     "inputWidgets": {},
     "nuid": "537335cb-1b28-434f-8e52-1501be09bf6e",
     "showTitle": false,
     "tableResultSettingsMap": {},
     "title": ""
    }
   },
   "outputs": [],
   "source": [
    "# 3. Enriquecer o DataFrame com colunas de data formatada e nomes de dia/mês\n",
    "df_aeroportos = df_aeroportos.withColumn(\"date\", to_date(col(\"time_hour\"), \"yyyy-MM-dd HH:mm:ss\"))\n",
    "df_aeroportos = df_aeroportos.withColumn(\"day_of_week_name\", date_format(col(\"date\"), \"EEEE\"))\n",
    "df_aeroportos = df_aeroportos.withColumn(\"month_of_year_name\", date_format(col(\"date\"), \"MMM\"))"
   ]
  },
  {
   "cell_type": "code",
   "execution_count": 0,
   "metadata": {
    "application/vnd.databricks.v1+cell": {
     "cellMetadata": {
      "byteLimit": 2048000,
      "rowLimit": 10000
     },
     "inputWidgets": {},
     "nuid": "1f66401a-3dd7-4884-a918-1d35d628ad0f",
     "showTitle": false,
     "tableResultSettingsMap": {},
     "title": ""
    }
   },
   "outputs": [
    {
     "output_type": "display_data",
     "data": {
      "text/html": [
       "<style scoped>\n",
       "  .table-result-container {\n",
       "    max-height: 300px;\n",
       "    overflow: auto;\n",
       "  }\n",
       "  table, th, td {\n",
       "    border: 1px solid black;\n",
       "    border-collapse: collapse;\n",
       "  }\n",
       "  th, td {\n",
       "    padding: 5px;\n",
       "  }\n",
       "  th {\n",
       "    text-align: left;\n",
       "  }\n",
       "</style><div class='table-result-container'><table class='table-result'><thead style='background-color: white'><tr><th>id</th><th>year</th><th>month</th><th>day</th><th>dep_time</th><th>sched_dep_time</th><th>dep_delay</th><th>arr_time</th><th>sched_arr_time</th><th>arr_delay</th><th>carrier</th><th>flight</th><th>tailnum</th><th>origin</th><th>dest</th><th>air_time</th><th>distance</th><th>hour</th><th>minute</th><th>time_hour</th><th>name</th><th>date</th><th>day_of_week_name</th><th>month_of_year_name</th></tr></thead><tbody><tr><td>0</td><td>2013</td><td>1</td><td>1</td><td>517.0</td><td>515</td><td>2.0</td><td>830.0</td><td>819</td><td>11.0</td><td>UA</td><td>1545</td><td>N14228</td><td>EWR</td><td>IAH</td><td>227.0</td><td>1400</td><td>5</td><td>15</td><td>2013-01-01T05:00:00.000Z</td><td>United Air Lines Inc.</td><td>2013-01-01</td><td>Tuesday</td><td>Jan</td></tr><tr><td>1</td><td>2013</td><td>1</td><td>1</td><td>533.0</td><td>529</td><td>4.0</td><td>850.0</td><td>830</td><td>20.0</td><td>UA</td><td>1714</td><td>N24211</td><td>LGA</td><td>IAH</td><td>227.0</td><td>1416</td><td>5</td><td>29</td><td>2013-01-01T05:00:00.000Z</td><td>United Air Lines Inc.</td><td>2013-01-01</td><td>Tuesday</td><td>Jan</td></tr><tr><td>2</td><td>2013</td><td>1</td><td>1</td><td>542.0</td><td>540</td><td>2.0</td><td>923.0</td><td>850</td><td>33.0</td><td>AA</td><td>1141</td><td>N619AA</td><td>JFK</td><td>MIA</td><td>160.0</td><td>1089</td><td>5</td><td>40</td><td>2013-01-01T05:00:00.000Z</td><td>American Airlines Inc.</td><td>2013-01-01</td><td>Tuesday</td><td>Jan</td></tr><tr><td>3</td><td>2013</td><td>1</td><td>1</td><td>544.0</td><td>545</td><td>-1.0</td><td>1004.0</td><td>1022</td><td>-18.0</td><td>B6</td><td>725</td><td>N804JB</td><td>JFK</td><td>BQN</td><td>183.0</td><td>1576</td><td>5</td><td>45</td><td>2013-01-01T05:00:00.000Z</td><td>JetBlue Airways</td><td>2013-01-01</td><td>Tuesday</td><td>Jan</td></tr><tr><td>4</td><td>2013</td><td>1</td><td>1</td><td>554.0</td><td>600</td><td>-6.0</td><td>812.0</td><td>837</td><td>-25.0</td><td>DL</td><td>461</td><td>N668DN</td><td>LGA</td><td>ATL</td><td>116.0</td><td>762</td><td>6</td><td>0</td><td>2013-01-01T06:00:00.000Z</td><td>Delta Air Lines Inc.</td><td>2013-01-01</td><td>Tuesday</td><td>Jan</td></tr></tbody></table></div>"
      ]
     },
     "metadata": {
      "application/vnd.databricks.v1+output": {
       "addedWidgets": {},
       "aggData": [],
       "aggError": "",
       "aggOverflow": false,
       "aggSchema": [],
       "aggSeriesLimitReached": false,
       "aggType": "",
       "arguments": {},
       "columnCustomDisplayInfos": {},
       "data": [
        [
         0,
         2013,
         1,
         1,
         517.0,
         515,
         2.0,
         830.0,
         819,
         11.0,
         "UA",
         1545,
         "N14228",
         "EWR",
         "IAH",
         227.0,
         1400,
         5,
         15,
         "2013-01-01T05:00:00.000Z",
         "United Air Lines Inc.",
         "2013-01-01",
         "Tuesday",
         "Jan"
        ],
        [
         1,
         2013,
         1,
         1,
         533.0,
         529,
         4.0,
         850.0,
         830,
         20.0,
         "UA",
         1714,
         "N24211",
         "LGA",
         "IAH",
         227.0,
         1416,
         5,
         29,
         "2013-01-01T05:00:00.000Z",
         "United Air Lines Inc.",
         "2013-01-01",
         "Tuesday",
         "Jan"
        ],
        [
         2,
         2013,
         1,
         1,
         542.0,
         540,
         2.0,
         923.0,
         850,
         33.0,
         "AA",
         1141,
         "N619AA",
         "JFK",
         "MIA",
         160.0,
         1089,
         5,
         40,
         "2013-01-01T05:00:00.000Z",
         "American Airlines Inc.",
         "2013-01-01",
         "Tuesday",
         "Jan"
        ],
        [
         3,
         2013,
         1,
         1,
         544.0,
         545,
         -1.0,
         1004.0,
         1022,
         -18.0,
         "B6",
         725,
         "N804JB",
         "JFK",
         "BQN",
         183.0,
         1576,
         5,
         45,
         "2013-01-01T05:00:00.000Z",
         "JetBlue Airways",
         "2013-01-01",
         "Tuesday",
         "Jan"
        ],
        [
         4,
         2013,
         1,
         1,
         554.0,
         600,
         -6.0,
         812.0,
         837,
         -25.0,
         "DL",
         461,
         "N668DN",
         "LGA",
         "ATL",
         116.0,
         762,
         6,
         0,
         "2013-01-01T06:00:00.000Z",
         "Delta Air Lines Inc.",
         "2013-01-01",
         "Tuesday",
         "Jan"
        ]
       ],
       "datasetInfos": [],
       "dbfsResultPath": null,
       "isJsonSchema": true,
       "metadata": {},
       "overflow": false,
       "plotOptions": {
        "customPlotOptions": {},
        "displayType": "table",
        "pivotAggregation": null,
        "pivotColumns": null,
        "xColumns": null,
        "yColumns": null
       },
       "removedWidgets": [],
       "schema": [
        {
         "metadata": "{}",
         "name": "id",
         "type": "\"integer\""
        },
        {
         "metadata": "{}",
         "name": "year",
         "type": "\"integer\""
        },
        {
         "metadata": "{}",
         "name": "month",
         "type": "\"integer\""
        },
        {
         "metadata": "{}",
         "name": "day",
         "type": "\"integer\""
        },
        {
         "metadata": "{}",
         "name": "dep_time",
         "type": "\"double\""
        },
        {
         "metadata": "{}",
         "name": "sched_dep_time",
         "type": "\"integer\""
        },
        {
         "metadata": "{}",
         "name": "dep_delay",
         "type": "\"double\""
        },
        {
         "metadata": "{}",
         "name": "arr_time",
         "type": "\"double\""
        },
        {
         "metadata": "{}",
         "name": "sched_arr_time",
         "type": "\"integer\""
        },
        {
         "metadata": "{}",
         "name": "arr_delay",
         "type": "\"double\""
        },
        {
         "metadata": "{}",
         "name": "carrier",
         "type": "\"string\""
        },
        {
         "metadata": "{}",
         "name": "flight",
         "type": "\"integer\""
        },
        {
         "metadata": "{}",
         "name": "tailnum",
         "type": "\"string\""
        },
        {
         "metadata": "{}",
         "name": "origin",
         "type": "\"string\""
        },
        {
         "metadata": "{}",
         "name": "dest",
         "type": "\"string\""
        },
        {
         "metadata": "{}",
         "name": "air_time",
         "type": "\"double\""
        },
        {
         "metadata": "{}",
         "name": "distance",
         "type": "\"integer\""
        },
        {
         "metadata": "{}",
         "name": "hour",
         "type": "\"integer\""
        },
        {
         "metadata": "{}",
         "name": "minute",
         "type": "\"integer\""
        },
        {
         "metadata": "{}",
         "name": "time_hour",
         "type": "\"timestamp\""
        },
        {
         "metadata": "{}",
         "name": "name",
         "type": "\"string\""
        },
        {
         "metadata": "{}",
         "name": "date",
         "type": "\"date\""
        },
        {
         "metadata": "{}",
         "name": "day_of_week_name",
         "type": "\"string\""
        },
        {
         "metadata": "{}",
         "name": "month_of_year_name",
         "type": "\"string\""
        }
       ],
       "type": "table"
      }
     },
     "output_type": "display_data"
    }
   ],
   "source": [
    "display(df_aeroportos.limit(5))"
   ]
  },
  {
   "cell_type": "markdown",
   "metadata": {
    "application/vnd.databricks.v1+cell": {
     "cellMetadata": {
      "byteLimit": 2048000,
      "rowLimit": 10000
     },
     "inputWidgets": {},
     "nuid": "697810d3-4618-4244-8d61-1ef80fc99713",
     "showTitle": false,
     "tableResultSettingsMap": {},
     "title": ""
    }
   },
   "source": [
    "### 1. Qual é o número total de voos no conjunto de dados? "
   ]
  },
  {
   "cell_type": "code",
   "execution_count": 0,
   "metadata": {
    "application/vnd.databricks.v1+cell": {
     "cellMetadata": {
      "byteLimit": 2048000,
      "rowLimit": 10000
     },
     "inputWidgets": {},
     "nuid": "b8aaaf21-ba69-4dbb-9d4b-5a58ee57f8fb",
     "showTitle": true,
     "tableResultSettingsMap": {},
     "title": "Qual é o número total de voos no conjunto de dados?"
    }
   },
   "outputs": [
    {
     "output_type": "display_data",
     "data": {
      "text/html": [
       "<style scoped>\n",
       "  .table-result-container {\n",
       "    max-height: 300px;\n",
       "    overflow: auto;\n",
       "  }\n",
       "  table, th, td {\n",
       "    border: 1px solid black;\n",
       "    border-collapse: collapse;\n",
       "  }\n",
       "  th, td {\n",
       "    padding: 5px;\n",
       "  }\n",
       "  th {\n",
       "    text-align: left;\n",
       "  }\n",
       "</style><div class='table-result-container'><table class='table-result'><thead style='background-color: white'><tr><th>Quantidade Total de Voos</th></tr></thead><tbody><tr><td>336776</td></tr></tbody></table></div>"
      ]
     },
     "metadata": {
      "application/vnd.databricks.v1+output": {
       "addedWidgets": {},
       "aggData": [],
       "aggError": "",
       "aggOverflow": false,
       "aggSchema": [],
       "aggSeriesLimitReached": false,
       "aggType": "",
       "arguments": {},
       "columnCustomDisplayInfos": {},
       "data": [
        [
         336776
        ]
       ],
       "datasetInfos": [],
       "dbfsResultPath": null,
       "isJsonSchema": true,
       "metadata": {},
       "overflow": false,
       "plotOptions": {
        "customPlotOptions": {},
        "displayType": "table",
        "pivotAggregation": null,
        "pivotColumns": null,
        "xColumns": null,
        "yColumns": null
       },
       "removedWidgets": [],
       "schema": [
        {
         "metadata": "{}",
         "name": "Quantidade Total de Voos",
         "type": "\"long\""
        }
       ],
       "type": "table"
      }
     },
     "output_type": "display_data"
    }
   ],
   "source": [
    "# Conta o número total de voos no DataFrame e exibe o resultado em uma tabela\n",
    "total_voos = df_aeroportos.count()\n",
    "\n",
    "display(spark.createDataFrame([(total_voos,)], [\"Quantidade Total de Voos\"]))"
   ]
  },
  {
   "cell_type": "markdown",
   "metadata": {
    "application/vnd.databricks.v1+cell": {
     "cellMetadata": {
      "byteLimit": 2048000,
      "rowLimit": 10000
     },
     "inputWidgets": {},
     "nuid": "bf5cdb13-e73c-4359-b815-010d97562ec7",
     "showTitle": false,
     "tableResultSettingsMap": {},
     "title": ""
    }
   },
   "source": [
    "### 2. Quantos voos foram cancelados? \n",
    "(Considerando que voos cancelados têm dep_time e arr_time nulos)"
   ]
  },
  {
   "cell_type": "code",
   "execution_count": 0,
   "metadata": {
    "application/vnd.databricks.v1+cell": {
     "cellMetadata": {
      "byteLimit": 2048000,
      "rowLimit": 10000
     },
     "inputWidgets": {},
     "nuid": "8d8a91b3-442e-4f99-9502-35734480a785",
     "showTitle": false,
     "tableResultSettingsMap": {},
     "title": ""
    }
   },
   "outputs": [
    {
     "output_type": "display_data",
     "data": {
      "text/html": [
       "<style scoped>\n",
       "  .table-result-container {\n",
       "    max-height: 300px;\n",
       "    overflow: auto;\n",
       "  }\n",
       "  table, th, td {\n",
       "    border: 1px solid black;\n",
       "    border-collapse: collapse;\n",
       "  }\n",
       "  th, td {\n",
       "    padding: 5px;\n",
       "  }\n",
       "  th {\n",
       "    text-align: left;\n",
       "  }\n",
       "</style><div class='table-result-container'><table class='table-result'><thead style='background-color: white'><tr><th>Quantidade de Voos Cancelados</th></tr></thead><tbody><tr><td>8255</td></tr></tbody></table></div>"
      ]
     },
     "metadata": {
      "application/vnd.databricks.v1+output": {
       "addedWidgets": {},
       "aggData": [],
       "aggError": "",
       "aggOverflow": false,
       "aggSchema": [],
       "aggSeriesLimitReached": false,
       "aggType": "",
       "arguments": {},
       "columnCustomDisplayInfos": {},
       "data": [
        [
         8255
        ]
       ],
       "datasetInfos": [],
       "dbfsResultPath": null,
       "isJsonSchema": true,
       "metadata": {},
       "overflow": false,
       "plotOptions": {
        "customPlotOptions": {},
        "displayType": "table",
        "pivotAggregation": null,
        "pivotColumns": null,
        "xColumns": null,
        "yColumns": null
       },
       "removedWidgets": [],
       "schema": [
        {
         "metadata": "{}",
         "name": "Quantidade de Voos Cancelados",
         "type": "\"long\""
        }
       ],
       "type": "table"
      }
     },
     "output_type": "display_data"
    }
   ],
   "source": [
    "# Conta o número de voos cancelados, considerando como cancelados aqueles em que os horários de partida (dep_time) e chegada (arr_time) são nulos.\n",
    "voos_cancelados = df_aeroportos.filter(df_aeroportos.dep_time.isNull() & df_aeroportos.arr_time.isNull()).count()\n",
    "\n",
    "# Exibe o total de voos cancelados em formato de tabela.\n",
    "display(spark.createDataFrame([(voos_cancelados,)], [\"Quantidade de Voos Cancelados\"]))"
   ]
  },
  {
   "cell_type": "markdown",
   "metadata": {
    "application/vnd.databricks.v1+cell": {
     "cellMetadata": {
      "byteLimit": 2048000,
      "rowLimit": 10000
     },
     "inputWidgets": {},
     "nuid": "df3b2e9e-f04b-48ee-b38c-7c14955011d7",
     "showTitle": false,
     "tableResultSettingsMap": {},
     "title": ""
    }
   },
   "source": [
    "### 3.  Quais são os 5 aeroportos com maior número de pousos? "
   ]
  },
  {
   "cell_type": "code",
   "execution_count": 0,
   "metadata": {
    "application/vnd.databricks.v1+cell": {
     "cellMetadata": {
      "byteLimit": 2048000,
      "rowLimit": 10000
     },
     "inputWidgets": {},
     "nuid": "5d3d05e9-29c9-4ac7-839a-b1efe556e386",
     "showTitle": true,
     "tableResultSettingsMap": {},
     "title": "Quais são os 5 aeroportos com maior número de pousos?"
    }
   },
   "outputs": [
    {
     "output_type": "display_data",
     "data": {
      "text/html": [
       "<style scoped>\n",
       "  .table-result-container {\n",
       "    max-height: 300px;\n",
       "    overflow: auto;\n",
       "  }\n",
       "  table, th, td {\n",
       "    border: 1px solid black;\n",
       "    border-collapse: collapse;\n",
       "  }\n",
       "  th, td {\n",
       "    padding: 5px;\n",
       "  }\n",
       "  th {\n",
       "    text-align: left;\n",
       "  }\n",
       "</style><div class='table-result-container'><table class='table-result'><thead style='background-color: white'><tr><th>Aeroporto de Destino</th><th>Quantidade de Pousos</th></tr></thead><tbody><tr><td>ORD</td><td>17283</td></tr><tr><td>ATL</td><td>17215</td></tr><tr><td>LAX</td><td>16174</td></tr><tr><td>BOS</td><td>15508</td></tr><tr><td>MCO</td><td>14082</td></tr></tbody></table></div>"
      ]
     },
     "metadata": {
      "application/vnd.databricks.v1+output": {
       "addedWidgets": {},
       "aggData": [],
       "aggError": "",
       "aggOverflow": false,
       "aggSchema": [],
       "aggSeriesLimitReached": false,
       "aggType": "",
       "arguments": {},
       "columnCustomDisplayInfos": {},
       "data": [
        [
         "ORD",
         17283
        ],
        [
         "ATL",
         17215
        ],
        [
         "LAX",
         16174
        ],
        [
         "BOS",
         15508
        ],
        [
         "MCO",
         14082
        ]
       ],
       "datasetInfos": [],
       "dbfsResultPath": null,
       "isJsonSchema": true,
       "metadata": {},
       "overflow": false,
       "plotOptions": {
        "customPlotOptions": {},
        "displayType": "table",
        "pivotAggregation": null,
        "pivotColumns": null,
        "xColumns": null,
        "yColumns": null
       },
       "removedWidgets": [],
       "schema": [
        {
         "metadata": "{}",
         "name": "Aeroporto de Destino",
         "type": "\"string\""
        },
        {
         "metadata": "{}",
         "name": "Quantidade de Pousos",
         "type": "\"long\""
        }
       ],
       "type": "table"
      }
     },
     "output_type": "display_data"
    }
   ],
   "source": [
    "# Agrupa o DataFrame pelo aeroporto de destino (\"dest\"), conta o número de pousos em cada aeroporto,\n",
    "# ordena em ordem decrescente de quantidade, seleciona os 5 aeroportos com mais pousos,\n",
    "# renomeia as colunas para exibição e exibe o resultado em formato de tabela.\n",
    "top5_pousos = (\n",
    "    df_aeroportos.groupBy(\"dest\")\n",
    "    .count()\n",
    "    .orderBy(\"count\", ascending=False)\n",
    "    .limit(5)\n",
    "    .withColumnRenamed(\"dest\", \"Aeroporto de Destino\")\n",
    "    .withColumnRenamed(\"count\", \"Quantidade de Pousos\")\n",
    ")\n",
    "\n",
    "display(top5_pousos)"
   ]
  },
  {
   "cell_type": "markdown",
   "metadata": {
    "application/vnd.databricks.v1+cell": {
     "cellMetadata": {
      "byteLimit": 2048000,
      "rowLimit": 10000
     },
     "inputWidgets": {},
     "nuid": "1bef9094-0609-418b-b9d5-0039719ee332",
     "showTitle": false,
     "tableResultSettingsMap": {},
     "title": ""
    }
   },
   "source": [
    "### 4.  Qual é a rota mais frequente?\n",
    "(par origin-dest)"
   ]
  },
  {
   "cell_type": "code",
   "execution_count": 0,
   "metadata": {
    "application/vnd.databricks.v1+cell": {
     "cellMetadata": {
      "byteLimit": 2048000,
      "rowLimit": 10000
     },
     "inputWidgets": {},
     "nuid": "d7d52c83-2775-4fd8-887d-2186454513a0",
     "showTitle": true,
     "tableResultSettingsMap": {},
     "title": "4. Qual é a rota mais frequente?"
    }
   },
   "outputs": [
    {
     "output_type": "display_data",
     "data": {
      "text/html": [
       "<style scoped>\n",
       "  .table-result-container {\n",
       "    max-height: 300px;\n",
       "    overflow: auto;\n",
       "  }\n",
       "  table, th, td {\n",
       "    border: 1px solid black;\n",
       "    border-collapse: collapse;\n",
       "  }\n",
       "  th, td {\n",
       "    padding: 5px;\n",
       "  }\n",
       "  th {\n",
       "    text-align: left;\n",
       "  }\n",
       "</style><div class='table-result-container'><table class='table-result'><thead style='background-color: white'><tr><th>Aeroporto de Origem</th><th>Aeroporto de Destino</th><th>Quantidade de Voos</th></tr></thead><tbody><tr><td>JFK</td><td>LAX</td><td>11262</td></tr></tbody></table></div>"
      ]
     },
     "metadata": {
      "application/vnd.databricks.v1+output": {
       "addedWidgets": {},
       "aggData": [],
       "aggError": "",
       "aggOverflow": false,
       "aggSchema": [],
       "aggSeriesLimitReached": false,
       "aggType": "",
       "arguments": {},
       "columnCustomDisplayInfos": {},
       "data": [
        [
         "JFK",
         "LAX",
         11262
        ]
       ],
       "datasetInfos": [],
       "dbfsResultPath": null,
       "isJsonSchema": true,
       "metadata": {},
       "overflow": false,
       "plotOptions": {
        "customPlotOptions": {},
        "displayType": "table",
        "pivotAggregation": null,
        "pivotColumns": null,
        "xColumns": null,
        "yColumns": null
       },
       "removedWidgets": [],
       "schema": [
        {
         "metadata": "{}",
         "name": "Aeroporto de Origem",
         "type": "\"string\""
        },
        {
         "metadata": "{}",
         "name": "Aeroporto de Destino",
         "type": "\"string\""
        },
        {
         "metadata": "{}",
         "name": "Quantidade de Voos",
         "type": "\"long\""
        }
       ],
       "type": "table"
      }
     },
     "output_type": "display_data"
    }
   ],
   "source": [
    "# Agrupa o DataFrame pelas colunas de origem (\"origin\") e destino (\"dest\"), conta o número de voos para cada rota,\n",
    "# ordena em ordem decrescente de quantidade, seleciona a rota mais frequente (maior quantidade de voos),\n",
    "# renomeia as colunas para exibição e exibe o resultado em formato de tabela.\n",
    "rota_mais_frequente = (\n",
    "    df_aeroportos.groupBy(\"origin\", \"dest\")\n",
    "    .count()\n",
    "    .orderBy(\"count\", ascending=False)\n",
    "    .limit(1)\n",
    "    .withColumnRenamed(\"origin\", \"Aeroporto de Origem\")\n",
    "    .withColumnRenamed(\"dest\", \"Aeroporto de Destino\")\n",
    "    .withColumnRenamed(\"count\", \"Quantidade de Voos\")\n",
    ")\n",
    "\n",
    "display(rota_mais_frequente)"
   ]
  },
  {
   "cell_type": "markdown",
   "metadata": {
    "application/vnd.databricks.v1+cell": {
     "cellMetadata": {
      "byteLimit": 2048000,
      "rowLimit": 10000
     },
     "inputWidgets": {},
     "nuid": "7c8dc416-705c-4cdd-aead-d5a3aa344fc0",
     "showTitle": false,
     "tableResultSettingsMap": {},
     "title": ""
    }
   },
   "source": [
    "### 5.  Quais são as 5 companhias aéreas com maior tempo médio de atraso na chegada? \n",
    "(Exiba também o tempo)"
   ]
  },
  {
   "cell_type": "code",
   "execution_count": 0,
   "metadata": {
    "application/vnd.databricks.v1+cell": {
     "cellMetadata": {
      "byteLimit": 2048000,
      "rowLimit": 10000
     },
     "inputWidgets": {},
     "nuid": "fed08895-a284-4a20-8827-2d69bb65ccc8",
     "showTitle": true,
     "tableResultSettingsMap": {},
     "title": "Quais são as 5 companhias aéreas com maior tempo médio de atraso na chegada?"
    }
   },
   "outputs": [
    {
     "output_type": "display_data",
     "data": {
      "text/html": [
       "<style scoped>\n",
       "  .table-result-container {\n",
       "    max-height: 300px;\n",
       "    overflow: auto;\n",
       "  }\n",
       "  table, th, td {\n",
       "    border: 1px solid black;\n",
       "    border-collapse: collapse;\n",
       "  }\n",
       "  th, td {\n",
       "    padding: 5px;\n",
       "  }\n",
       "  th {\n",
       "    text-align: left;\n",
       "  }\n",
       "</style><div class='table-result-container'><table class='table-result'><thead style='background-color: white'><tr><th>carrier</th><th>name</th><th>Atraso Médio na Chegada (min)</th></tr></thead><tbody><tr><td>F9</td><td>Frontier Airlines Inc.</td><td>21.92</td></tr><tr><td>FL</td><td>AirTran Airways Corporation</td><td>20.12</td></tr><tr><td>EV</td><td>ExpressJet Airlines Inc.</td><td>15.80</td></tr><tr><td>YV</td><td>Mesa Airlines Inc.</td><td>15.56</td></tr><tr><td>OO</td><td>SkyWest Airlines Inc.</td><td>11.93</td></tr></tbody></table></div>"
      ]
     },
     "metadata": {
      "application/vnd.databricks.v1+output": {
       "addedWidgets": {},
       "aggData": [],
       "aggError": "",
       "aggOverflow": false,
       "aggSchema": [],
       "aggSeriesLimitReached": false,
       "aggType": "",
       "arguments": {},
       "columnCustomDisplayInfos": {},
       "data": [
        [
         "F9",
         "Frontier Airlines Inc.",
         "21.92"
        ],
        [
         "FL",
         "AirTran Airways Corporation",
         "20.12"
        ],
        [
         "EV",
         "ExpressJet Airlines Inc.",
         "15.80"
        ],
        [
         "YV",
         "Mesa Airlines Inc.",
         "15.56"
        ],
        [
         "OO",
         "SkyWest Airlines Inc.",
         "11.93"
        ]
       ],
       "datasetInfos": [],
       "dbfsResultPath": null,
       "isJsonSchema": true,
       "metadata": {},
       "overflow": false,
       "plotOptions": {
        "customPlotOptions": {},
        "displayType": "table",
        "pivotAggregation": null,
        "pivotColumns": null,
        "xColumns": null,
        "yColumns": null
       },
       "removedWidgets": [],
       "schema": [
        {
         "metadata": "{}",
         "name": "carrier",
         "type": "\"string\""
        },
        {
         "metadata": "{}",
         "name": "name",
         "type": "\"string\""
        },
        {
         "metadata": "{}",
         "name": "Atraso Médio na Chegada (min)",
         "type": "\"string\""
        }
       ],
       "type": "table"
      }
     },
     "output_type": "display_data"
    }
   ],
   "source": [
    "# Agrupa o DataFrame por companhia aérea (\"carrier\") e nome (\"name\"), calcula o atraso médio na chegada para cada grupo,\n",
    "# ordena em ordem decrescente de atraso médio, seleciona as 5 companhias com maior atraso médio,\n",
    "# formata o valor do atraso médio para duas casas decimais e exibe o resultado em formato de tabela.\n",
    "top5_atraso_chegada = (\n",
    "    df_aeroportos.groupBy(\"carrier\", \"name\")\n",
    "    .agg(avg(\"arr_delay\").alias(\"Atraso Médio na Chegada\"))\n",
    "    .orderBy(col(\"Atraso Médio na Chegada\").desc())\n",
    "    .limit(5)\n",
    "    .withColumn(\"Atraso Médio na Chegada\", col(\"Atraso Médio na Chegada\").cast(\"double\"))\n",
    "    .withColumn(\"Atraso Médio na Chegada (min)\", format_number(col(\"Atraso Médio na Chegada\"), 2)\n",
    ").drop(\"Atraso Médio na Chegada\"))\n",
    "\n",
    "display(top5_atraso_chegada_fmt)"
   ]
  },
  {
   "cell_type": "markdown",
   "metadata": {
    "application/vnd.databricks.v1+cell": {
     "cellMetadata": {
      "byteLimit": 2048000,
      "rowLimit": 10000
     },
     "inputWidgets": {},
     "nuid": "ad250d7f-524f-4033-8cd2-10578afd59d7",
     "showTitle": false,
     "tableResultSettingsMap": {},
     "title": ""
    }
   },
   "source": [
    "### 6.  Qual é o dia da semana com maior número de voos?"
   ]
  },
  {
   "cell_type": "code",
   "execution_count": 0,
   "metadata": {
    "application/vnd.databricks.v1+cell": {
     "cellMetadata": {
      "byteLimit": 2048000,
      "rowLimit": 10000
     },
     "inputWidgets": {},
     "nuid": "72df1c35-16bf-4d24-8d4d-3318a9e01c2b",
     "showTitle": true,
     "tableResultSettingsMap": {},
     "title": "Qual é o dia da semana com maior número de voos?"
    }
   },
   "outputs": [
    {
     "output_type": "display_data",
     "data": {
      "text/html": [
       "<style scoped>\n",
       "  .table-result-container {\n",
       "    max-height: 300px;\n",
       "    overflow: auto;\n",
       "  }\n",
       "  table, th, td {\n",
       "    border: 1px solid black;\n",
       "    border-collapse: collapse;\n",
       "  }\n",
       "  th, td {\n",
       "    padding: 5px;\n",
       "  }\n",
       "  th {\n",
       "    text-align: left;\n",
       "  }\n",
       "</style><div class='table-result-container'><table class='table-result'><thead style='background-color: white'><tr><th>Dia da Semana</th><th>Quantidade de Voos</th></tr></thead><tbody><tr><td>Monday</td><td>50690</td></tr></tbody></table></div>"
      ]
     },
     "metadata": {
      "application/vnd.databricks.v1+output": {
       "addedWidgets": {},
       "aggData": [],
       "aggError": "",
       "aggOverflow": false,
       "aggSchema": [],
       "aggSeriesLimitReached": false,
       "aggType": "",
       "arguments": {},
       "columnCustomDisplayInfos": {},
       "data": [
        [
         "Monday",
         50690
        ]
       ],
       "datasetInfos": [],
       "dbfsResultPath": null,
       "isJsonSchema": true,
       "metadata": {},
       "overflow": false,
       "plotOptions": {
        "customPlotOptions": {},
        "displayType": "table",
        "pivotAggregation": null,
        "pivotColumns": null,
        "xColumns": null,
        "yColumns": null
       },
       "removedWidgets": [],
       "schema": [
        {
         "metadata": "{}",
         "name": "Dia da Semana",
         "type": "\"string\""
        },
        {
         "metadata": "{}",
         "name": "Quantidade de Voos",
         "type": "\"long\""
        }
       ],
       "type": "table"
      }
     },
     "output_type": "display_data"
    }
   ],
   "source": [
    "# Agrupa o DataFrame pelo nome do dia da semana (\"day_of_week_name\"), conta o número de voos em cada dia,\n",
    "# ordena em ordem decrescente de quantidade, seleciona o dia com maior número de voos,\n",
    "# renomeia as colunas para exibição e exibe o resultado em formato de tabela.\n",
    "dia_mais_voos = (\n",
    "    df_aeroportos.groupBy(\"day_of_week_name\")\n",
    "    .count()\n",
    "    .orderBy(col(\"count\").desc())\n",
    "    .limit(1)\n",
    "    .withColumnRenamed(\"day_of_week_name\", \"Dia da Semana\")\n",
    "    .withColumnRenamed(\"count\", \"Quantidade de Voos\")\n",
    ")\n",
    "\n",
    "display(dia_mais_voos)"
   ]
  },
  {
   "cell_type": "markdown",
   "metadata": {
    "application/vnd.databricks.v1+cell": {
     "cellMetadata": {
      "byteLimit": 2048000,
      "rowLimit": 10000
     },
     "inputWidgets": {},
     "nuid": "0ad0ad6a-82ba-4af7-80e2-6c53fe6be51a",
     "showTitle": false,
     "tableResultSettingsMap": {},
     "title": ""
    }
   },
   "source": [
    "### 7.  Qual é a rota que teve o maior tempo de voo médio?\n",
    "(air_time)"
   ]
  },
  {
   "cell_type": "code",
   "execution_count": 0,
   "metadata": {
    "application/vnd.databricks.v1+cell": {
     "cellMetadata": {
      "byteLimit": 2048000,
      "rowLimit": 10000
     },
     "inputWidgets": {},
     "nuid": "895dd914-f49b-407c-ba3e-acb406d56248",
     "showTitle": true,
     "tableResultSettingsMap": {},
     "title": "Qual é a rota que teve o maior tempo de voo médio?"
    }
   },
   "outputs": [
    {
     "output_type": "display_data",
     "data": {
      "text/html": [
       "<style scoped>\n",
       "  .table-result-container {\n",
       "    max-height: 300px;\n",
       "    overflow: auto;\n",
       "  }\n",
       "  table, th, td {\n",
       "    border: 1px solid black;\n",
       "    border-collapse: collapse;\n",
       "  }\n",
       "  th, td {\n",
       "    padding: 5px;\n",
       "  }\n",
       "  th {\n",
       "    text-align: left;\n",
       "  }\n",
       "</style><div class='table-result-container'><table class='table-result'><thead style='background-color: white'><tr><th>Aeroporto de Origem</th><th>Aeroporto de Destino</th><th>Tempo Médio de Voo (min)</th></tr></thead><tbody><tr><td>JFK</td><td>HNL</td><td>623.0877192982456</td></tr></tbody></table></div>"
      ]
     },
     "metadata": {
      "application/vnd.databricks.v1+output": {
       "addedWidgets": {},
       "aggData": [],
       "aggError": "",
       "aggOverflow": false,
       "aggSchema": [],
       "aggSeriesLimitReached": false,
       "aggType": "",
       "arguments": {},
       "columnCustomDisplayInfos": {},
       "data": [
        [
         "JFK",
         "HNL",
         623.0877192982456
        ]
       ],
       "datasetInfos": [],
       "dbfsResultPath": null,
       "isJsonSchema": true,
       "metadata": {},
       "overflow": false,
       "plotOptions": {
        "customPlotOptions": {},
        "displayType": "table",
        "pivotAggregation": null,
        "pivotColumns": null,
        "xColumns": null,
        "yColumns": null
       },
       "removedWidgets": [],
       "schema": [
        {
         "metadata": "{}",
         "name": "Aeroporto de Origem",
         "type": "\"string\""
        },
        {
         "metadata": "{}",
         "name": "Aeroporto de Destino",
         "type": "\"string\""
        },
        {
         "metadata": "{}",
         "name": "Tempo Médio de Voo (min)",
         "type": "\"double\""
        }
       ],
       "type": "table"
      }
     },
     "output_type": "display_data"
    }
   ],
   "source": [
    "# Agrupa o DataFrame pelas colunas de origem (\"origin\") e destino (\"dest\"), calcula o tempo médio de voo (\"air_time\") para cada rota,\n",
    "# ordena em ordem decrescente de tempo médio, seleciona a rota com maior tempo médio de voo,\n",
    "# renomeia as colunas para exibição e exibe o resultado em formato de tabela.\n",
    "rota_maior_tempo_medio_voo = (\n",
    "    df_aeroportos.groupBy(\"origin\", \"dest\")\n",
    "    .agg(avg(\"air_time\").alias(\"Tempo Médio de Voo\"))\n",
    "    .orderBy(col(\"Tempo Médio de Voo\").desc())\n",
    "    .limit(1)\n",
    "    .withColumnRenamed(\"origin\", \"Aeroporto de Origem\")\n",
    "    .withColumnRenamed(\"dest\", \"Aeroporto de Destino\")\n",
    "    .withColumnRenamed(\"Tempo Médio de Voo\", \"Tempo Médio de Voo (min)\")\n",
    ")\n",
    "\n",
    "display(rota_maior_tempo_medio_voo)"
   ]
  },
  {
   "cell_type": "markdown",
   "metadata": {
    "application/vnd.databricks.v1+cell": {
     "cellMetadata": {
      "byteLimit": 2048000,
      "rowLimit": 10000
     },
     "inputWidgets": {},
     "nuid": "7dd104d9-e551-4673-bfd9-07db57b829f3",
     "showTitle": false,
     "tableResultSettingsMap": {},
     "title": ""
    }
   },
   "source": [
    "### 8.  Para cada aeroporto de origem, qual é o aeroporto de destino mais comum?"
   ]
  },
  {
   "cell_type": "code",
   "execution_count": 0,
   "metadata": {
    "application/vnd.databricks.v1+cell": {
     "cellMetadata": {
      "byteLimit": 2048000,
      "rowLimit": 10000
     },
     "inputWidgets": {},
     "nuid": "f82ecaaa-f2f8-48f9-a756-1e04d24f073a",
     "showTitle": true,
     "tableResultSettingsMap": {},
     "title": "Para cada aeroporto de origem, qual é o aeroporto de destino mais comum?"
    }
   },
   "outputs": [
    {
     "output_type": "display_data",
     "data": {
      "text/html": [
       "<style scoped>\n",
       "  .table-result-container {\n",
       "    max-height: 300px;\n",
       "    overflow: auto;\n",
       "  }\n",
       "  table, th, td {\n",
       "    border: 1px solid black;\n",
       "    border-collapse: collapse;\n",
       "  }\n",
       "  th, td {\n",
       "    padding: 5px;\n",
       "  }\n",
       "  th {\n",
       "    text-align: left;\n",
       "  }\n",
       "</style><div class='table-result-container'><table class='table-result'><thead style='background-color: white'><tr><th>Aeroporto de Origem</th><th>Aeroporto de Destino Mais Comum</th><th>Quantidade de Voos</th></tr></thead><tbody><tr><td>EWR</td><td>ORD</td><td>6100</td></tr><tr><td>JFK</td><td>LAX</td><td>11262</td></tr><tr><td>LGA</td><td>ATL</td><td>10263</td></tr></tbody></table></div>"
      ]
     },
     "metadata": {
      "application/vnd.databricks.v1+output": {
       "addedWidgets": {},
       "aggData": [],
       "aggError": "",
       "aggOverflow": false,
       "aggSchema": [],
       "aggSeriesLimitReached": false,
       "aggType": "",
       "arguments": {},
       "columnCustomDisplayInfos": {},
       "data": [
        [
         "EWR",
         "ORD",
         6100
        ],
        [
         "JFK",
         "LAX",
         11262
        ],
        [
         "LGA",
         "ATL",
         10263
        ]
       ],
       "datasetInfos": [],
       "dbfsResultPath": null,
       "isJsonSchema": true,
       "metadata": {},
       "overflow": false,
       "plotOptions": {
        "customPlotOptions": {},
        "displayType": "table",
        "pivotAggregation": null,
        "pivotColumns": null,
        "xColumns": null,
        "yColumns": null
       },
       "removedWidgets": [],
       "schema": [
        {
         "metadata": "{}",
         "name": "Aeroporto de Origem",
         "type": "\"string\""
        },
        {
         "metadata": "{}",
         "name": "Aeroporto de Destino Mais Comum",
         "type": "\"string\""
        },
        {
         "metadata": "{}",
         "name": "Quantidade de Voos",
         "type": "\"long\""
        }
       ],
       "type": "table"
      }
     },
     "output_type": "display_data"
    }
   ],
   "source": [
    "# Agrupa o DataFrame pelas colunas de origem (\"origin\") e destino (\"dest\") e conta o número de voos para cada rota.\n",
    "rotas_contagem = df_aeroportos.groupBy(\"origin\", \"dest\").count()\n",
    "\n",
    "# Define uma janela particionada por aeroporto de origem, ordenando pela contagem de voos em ordem decrescente.\n",
    "window_spec = Window.partitionBy(\"origin\").orderBy(col(\"count\").desc())\n",
    "\n",
    "# Adiciona uma coluna de ranking para cada rota dentro de cada origem, baseado na contagem de voos.\n",
    "rotas_ranked = rotas_contagem.withColumn(\"rank\", row_number().over(window_spec))\n",
    "\n",
    "# Filtra para manter apenas a rota mais comum (rank 1) de cada aeroporto de origem,\n",
    "# renomeia as colunas para exibição e remove a coluna de ranking.\n",
    "destino_mais_comum_por_origem = rotas_ranked.filter(col(\"rank\") == 1) \\\n",
    "    .withColumnRenamed(\"origin\", \"Aeroporto de Origem\") \\\n",
    "    .withColumnRenamed(\"dest\", \"Aeroporto de Destino Mais Comum\") \\\n",
    "    .withColumnRenamed(\"count\", \"Quantidade de Voos\") \\\n",
    "    .drop(\"rank\")\n",
    "\n",
    "display(destino_mais_comum_por_origem)"
   ]
  },
  {
   "cell_type": "markdown",
   "metadata": {
    "application/vnd.databricks.v1+cell": {
     "cellMetadata": {
      "byteLimit": 2048000,
      "rowLimit": 10000
     },
     "inputWidgets": {},
     "nuid": "53e3850e-7569-491f-ab8b-eb669ab6f540",
     "showTitle": false,
     "tableResultSettingsMap": {},
     "title": ""
    }
   },
   "source": [
    "### 9. Quais são as 3 rotas que tiveram a maior variação no tempo médio de voo?\n",
    "(air_time)"
   ]
  },
  {
   "cell_type": "code",
   "execution_count": 0,
   "metadata": {
    "application/vnd.databricks.v1+cell": {
     "cellMetadata": {
      "byteLimit": 2048000,
      "rowLimit": 10000
     },
     "inputWidgets": {},
     "nuid": "75768114-bb04-40b0-ad2c-6b97bd1c570f",
     "showTitle": true,
     "tableResultSettingsMap": {},
     "title": "Quais são as 3 rotas que tiveram a maior variação no tempo médio de voo?"
    }
   },
   "outputs": [
    {
     "output_type": "display_data",
     "data": {
      "text/html": [
       "<style scoped>\n",
       "  .table-result-container {\n",
       "    max-height: 300px;\n",
       "    overflow: auto;\n",
       "  }\n",
       "  table, th, td {\n",
       "    border: 1px solid black;\n",
       "    border-collapse: collapse;\n",
       "  }\n",
       "  th, td {\n",
       "    padding: 5px;\n",
       "  }\n",
       "  th {\n",
       "    text-align: left;\n",
       "  }\n",
       "</style><div class='table-result-container'><table class='table-result'><thead style='background-color: white'><tr><th>Aeroporto de Origem</th><th>Aeroporto de Destino</th><th>Maior Variação no Tempo de Voo (min)</th></tr></thead><tbody><tr><td>LGA</td><td>MYR</td><td>25.32</td></tr><tr><td>EWR</td><td>HNL</td><td>21.27</td></tr><tr><td>JFK</td><td>HNL</td><td>20.69</td></tr></tbody></table></div>"
      ]
     },
     "metadata": {
      "application/vnd.databricks.v1+output": {
       "addedWidgets": {},
       "aggData": [],
       "aggError": "",
       "aggOverflow": false,
       "aggSchema": [],
       "aggSeriesLimitReached": false,
       "aggType": "",
       "arguments": {},
       "columnCustomDisplayInfos": {},
       "data": [
        [
         "LGA",
         "MYR",
         "25.32"
        ],
        [
         "EWR",
         "HNL",
         "21.27"
        ],
        [
         "JFK",
         "HNL",
         "20.69"
        ]
       ],
       "datasetInfos": [],
       "dbfsResultPath": null,
       "isJsonSchema": true,
       "metadata": {},
       "overflow": false,
       "plotOptions": {
        "customPlotOptions": {},
        "displayType": "table",
        "pivotAggregation": null,
        "pivotColumns": null,
        "xColumns": null,
        "yColumns": null
       },
       "removedWidgets": [],
       "schema": [
        {
         "metadata": "{}",
         "name": "Aeroporto de Origem",
         "type": "\"string\""
        },
        {
         "metadata": "{}",
         "name": "Aeroporto de Destino",
         "type": "\"string\""
        },
        {
         "metadata": "{}",
         "name": "Maior Variação no Tempo de Voo (min)",
         "type": "\"string\""
        }
       ],
       "type": "table"
      }
     },
     "output_type": "display_data"
    }
   ],
   "source": [
    "# Agrupa o DataFrame pelas colunas de origem (\"origin\") e destino (\"dest\"), calcula o desvio padrão do tempo de voo (\"air_time\") para cada rota,\n",
    "# ordena em ordem decrescente de desvio padrão, seleciona as 3 rotas com maior variação no tempo de voo,\n",
    "# renomeia as colunas para exibição, formata o valor do desvio padrão para duas casas decimais e exibe o resultado em formato de tabela.\n",
    "rotas_maior_variacao_tempo_voo = (\n",
    "    df_aeroportos.groupBy(\"origin\", \"dest\")\n",
    "    .agg(stddev(\"air_time\").alias(\"Desvio Padrão do Tempo de Voo\"))\n",
    "    .orderBy(col(\"Desvio Padrão do Tempo de Voo\").desc())\n",
    "    .limit(3)\n",
    "    .withColumnRenamed(\"origin\", \"Aeroporto de Origem\")\n",
    "    .withColumnRenamed(\"dest\", \"Aeroporto de Destino\")\n",
    "    .withColumnRenamed(\"Desvio Padrão do Tempo de Voo\", \"Maior Variação no Tempo de Voo (min)\")\n",
    "    .withColumn(\"Maior Variação no Tempo de Voo (min)\", format_number(col(\"Maior Variação no Tempo de Voo (min)\"), 2))\n",
    ")\n",
    "\n",
    "display(rotas_maior_variacao_tempo_voo)"
   ]
  },
  {
   "cell_type": "markdown",
   "metadata": {
    "application/vnd.databricks.v1+cell": {
     "cellMetadata": {
      "byteLimit": 2048000,
      "rowLimit": 10000
     },
     "inputWidgets": {},
     "nuid": "78d41654-cca4-4526-84f5-a4a40764534c",
     "showTitle": false,
     "tableResultSettingsMap": {},
     "title": ""
    }
   },
   "source": [
    "### 10.  Quais são as 3 rotas mais comuns que tiveram atrasos na chegada superiores a 30 minutos?"
   ]
  },
  {
   "cell_type": "code",
   "execution_count": 0,
   "metadata": {
    "application/vnd.databricks.v1+cell": {
     "cellMetadata": {
      "byteLimit": 2048000,
      "rowLimit": 10000
     },
     "inputWidgets": {},
     "nuid": "25390fb7-55af-4127-b232-b8950fc37bc3",
     "showTitle": true,
     "tableResultSettingsMap": {},
     "title": "Quais são as 3 rotas mais comuns que tiveram atrasos na chegada superiores a 30 minutos"
    }
   },
   "outputs": [
    {
     "output_type": "display_data",
     "data": {
      "text/html": [
       "<style scoped>\n",
       "  .table-result-container {\n",
       "    max-height: 300px;\n",
       "    overflow: auto;\n",
       "  }\n",
       "  table, th, td {\n",
       "    border: 1px solid black;\n",
       "    border-collapse: collapse;\n",
       "  }\n",
       "  th, td {\n",
       "    padding: 5px;\n",
       "  }\n",
       "  th {\n",
       "    text-align: left;\n",
       "  }\n",
       "</style><div class='table-result-container'><table class='table-result'><thead style='background-color: white'><tr><th>Aeroporto de Origem</th><th>Aeroporto de Destino</th><th>Quantidade de Voos com Atraso > 30 min</th></tr></thead><tbody><tr><td>LGA</td><td>ATL</td><td>1563</td></tr><tr><td>JFK</td><td>LAX</td><td>1286</td></tr><tr><td>LGA</td><td>ORD</td><td>1188</td></tr></tbody></table></div>"
      ]
     },
     "metadata": {
      "application/vnd.databricks.v1+output": {
       "addedWidgets": {},
       "aggData": [],
       "aggError": "",
       "aggOverflow": false,
       "aggSchema": [],
       "aggSeriesLimitReached": false,
       "aggType": "",
       "arguments": {},
       "columnCustomDisplayInfos": {},
       "data": [
        [
         "LGA",
         "ATL",
         1563
        ],
        [
         "JFK",
         "LAX",
         1286
        ],
        [
         "LGA",
         "ORD",
         1188
        ]
       ],
       "datasetInfos": [],
       "dbfsResultPath": null,
       "isJsonSchema": true,
       "metadata": {},
       "overflow": false,
       "plotOptions": {
        "customPlotOptions": {},
        "displayType": "table",
        "pivotAggregation": null,
        "pivotColumns": null,
        "xColumns": null,
        "yColumns": null
       },
       "removedWidgets": [],
       "schema": [
        {
         "metadata": "{}",
         "name": "Aeroporto de Origem",
         "type": "\"string\""
        },
        {
         "metadata": "{}",
         "name": "Aeroporto de Destino",
         "type": "\"string\""
        },
        {
         "metadata": "{}",
         "name": "Quantidade de Voos com Atraso > 30 min",
         "type": "\"long\""
        }
       ],
       "type": "table"
      }
     },
     "output_type": "display_data"
    }
   ],
   "source": [
    "# Filtra os voos com atraso na chegada superior a 30 minutos,\n",
    "# agrupa pelas colunas de origem (\"origin\") e destino (\"dest\"),\n",
    "# conta o número de voos atrasados para cada rota,\n",
    "# ordena em ordem decrescente de quantidade,\n",
    "# seleciona as 3 rotas com maior número de voos com atraso > 30 min,\n",
    "# renomeia as colunas para exibição e exibe o resultado em formato de tabela.\n",
    "rotas_atraso_maior_30 = (\n",
    "    df_aeroportos.filter(col(\"arr_delay\") > 30)\n",
    "    .groupBy(\"origin\", \"dest\")\n",
    "    .count()\n",
    "    .orderBy(col(\"count\").desc())\n",
    "    .limit(3)\n",
    "    .withColumnRenamed(\"origin\", \"Aeroporto de Origem\")\n",
    "    .withColumnRenamed(\"dest\", \"Aeroporto de Destino\")\n",
    "    .withColumnRenamed(\"count\", \"Quantidade de Voos com Atraso > 30 min\")\n",
    ")\n",
    "\n",
    "display(rotas_atraso_maior_30)"
   ]
  }
 ],
 "metadata": {
  "application/vnd.databricks.v1+notebook": {
   "computePreferences": null,
   "dashboards": [],
   "environmentMetadata": {
    "base_environment": "",
    "environment_version": "4"
   },
   "inputWidgetPreferences": null,
   "language": "python",
   "notebookMetadata": {
    "pythonIndentUnit": 4
   },
   "notebookName": "perguntas",
   "widgets": {}
  },
  "language_info": {
   "name": "python"
  }
 },
 "nbformat": 4,
 "nbformat_minor": 0
}