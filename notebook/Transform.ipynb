{
 "cells": [
  {
   "cell_type": "code",
   "execution_count": 0,
   "metadata": {
    "application/vnd.databricks.v1+cell": {
     "cellMetadata": {
      "byteLimit": 2048000,
      "rowLimit": 10000
     },
     "inputWidgets": {},
     "nuid": "b6a686ea-dccf-43eb-b92e-9403bee1f13f",
     "showTitle": false,
     "tableResultSettingsMap": {},
     "title": ""
    }
   },
   "outputs": [],
   "source": [
    "import requests\n",
    "\n",
    "from pyspark.sql.functions import (\n",
    "    col,\n",
    "    concat,\n",
    "    date_add,\n",
    "    date_format,\n",
    "    desc,\n",
    "    lit,\n",
    "    lpad,\n",
    "    to_timestamp,\n",
    "    when,\n",
    ")\n",
    "from pyspark.sql.utils import AnalysisException"
   ]
  },
  {
   "cell_type": "markdown",
   "metadata": {
    "application/vnd.databricks.v1+cell": {
     "cellMetadata": {
      "byteLimit": 2048000,
      "rowLimit": 10000
     },
     "inputWidgets": {},
     "nuid": "9321cd11-b5c7-49b2-9564-347f31321415",
     "showTitle": false,
     "tableResultSettingsMap": {},
     "title": ""
    }
   },
   "source": [
    "airports-database"
   ]
  },
  {
   "cell_type": "code",
   "execution_count": 0,
   "metadata": {
    "application/vnd.databricks.v1+cell": {
     "cellMetadata": {
      "byteLimit": 2048000,
      "rowLimit": 10000
     },
     "inputWidgets": {},
     "nuid": "26841343-8e9b-483f-9cd4-eead37a10475",
     "showTitle": false,
     "tableResultSettingsMap": {},
     "title": ""
    }
   },
   "outputs": [
    {
     "name": "stdout",
     "output_type": "stream",
     "text": [
      "\n",
      "DataFrame criado com sucesso!\n"
     ]
    }
   ],
   "source": [
    "UC_VOLUME_PATH = '/Volumes/airports_database/default/airports_database/'\n",
    "CSV_FILE_NAME = 'airports-database.csv'\n",
    "FINAL_UC_PATH = UC_VOLUME_PATH + CSV_FILE_NAME\n",
    "\n",
    "\n",
    "df_aeroportos = (spark.read\n",
    "  .format(\"csv\")\n",
    "  .option(\"header\", \"true\")\n",
    "  .option(\"inferSchema\", \"true\")\n",
    "  .load(FINAL_UC_PATH)\n",
    ")\n",
    "\n",
    "print(\"\\nDataFrame criado com sucesso!\")"
   ]
  },
  {
   "cell_type": "code",
   "execution_count": 0,
   "metadata": {
    "application/vnd.databricks.v1+cell": {
     "cellMetadata": {
      "byteLimit": 2048000,
      "rowLimit": 10000
     },
     "inputWidgets": {},
     "nuid": "53f2f880-099c-4d1b-940f-168f7efc20ee",
     "showTitle": false,
     "tableResultSettingsMap": {},
     "title": ""
    }
   },
   "outputs": [],
   "source": [
    "def get_airport_codes(df):\n",
    "    \"\"\"\n",
    "    Extrai e retorna uma lista de todos os códigos de aeroportos únicos presentes nas colunas 'origin' e 'dest' do DataFrame fornecido.\n",
    "\n",
    "    Parâmetros:\n",
    "        df (DataFrame): DataFrame Spark contendo as colunas 'origin' e 'dest' com os códigos dos aeroportos.\n",
    "\n",
    "    Retorna:\n",
    "        list: Lista de códigos de aeroportos únicos.\n",
    "    \"\"\"\n",
    "    df_origin = (df.select(\"origin\")\n",
    "             .withColumnRenamed(\"origin\", \"airport_code\")\n",
    "             .distinct()\n",
    "             )\n",
    "    df_dest = (df.select(\"dest\")\n",
    "           .withColumnRenamed(\"origin\", \"airport_code\")\n",
    "           .distinct()\n",
    "           )\n",
    "    df_airport_code = (df_origin.union(df_dest)\n",
    "                .dropDuplicates()\n",
    "                )\n",
    "    list_airport_code = [row.airport_code for row in df_airport_code.collect()]\n",
    "    return list_airport_code"
   ]
  },
  {
   "cell_type": "markdown",
   "metadata": {
    "application/vnd.databricks.v1+cell": {
     "cellMetadata": {
      "byteLimit": 2048000,
      "rowLimit": 10000
     },
     "inputWidgets": {},
     "nuid": "8e896f4c-f3a9-4fdc-b63c-25209aaf4235",
     "showTitle": false,
     "tableResultSettingsMap": {},
     "title": ""
    }
   },
   "source": [
    "AirportDB API"
   ]
  },
  {
   "cell_type": "code",
   "execution_count": 0,
   "metadata": {
    "application/vnd.databricks.v1+cell": {
     "cellMetadata": {
      "byteLimit": 2048000,
      "rowLimit": 10000
     },
     "inputWidgets": {},
     "nuid": "dc87a2de-8489-4756-9528-d39ab2cc0272",
     "showTitle": false,
     "tableResultSettingsMap": {},
     "title": ""
    }
   },
   "outputs": [],
   "source": [
    "with open(\"/Workspace/Users/ulisses.bomjardim@gmail.com/ulisses.bomjardim@gmail.com/PicPay/config/.venv\", \"r\") as f:\n",
    "    for line in f:\n",
    "        if line.startswith(\"AIRPORTDB_CLIENT_SECRET=\"):\n",
    "            airportdb_key = line.split(\"=\", 1)[1].strip().replace('\"', '')\n",
    "            break\n",
    "list_airport_code = get_airport_codes(df_aeroportos)"
   ]
  },
  {
   "cell_type": "code",
   "execution_count": 0,
   "metadata": {
    "application/vnd.databricks.v1+cell": {
     "cellMetadata": {
      "byteLimit": 2048000,
      "rowLimit": 10000
     },
     "inputWidgets": {},
     "nuid": "f5dcba6e-a4c3-424a-bb59-88cfc54cdb38",
     "showTitle": false,
     "tableResultSettingsMap": {},
     "title": ""
    }
   },
   "outputs": [
    {
     "data": {
      "text/html": [
       "<style scoped>\n",
       "  .table-result-container {\n",
       "    max-height: 300px;\n",
       "    overflow: auto;\n",
       "  }\n",
       "  table, th, td {\n",
       "    border: 1px solid black;\n",
       "    border-collapse: collapse;\n",
       "  }\n",
       "  th, td {\n",
       "    padding: 5px;\n",
       "  }\n",
       "  th {\n",
       "    text-align: left;\n",
       "  }\n",
       "</style><div class='table-result-container'><table class='table-result'><thead style='background-color: white'><tr><th>airport_code</th><th>latitude_deg</th><th>longitude_deg</th></tr></thead><tbody><tr><td>MDW</td><td>41.785999</td><td>-87.752403</td></tr><tr><td>PDX</td><td>45.58869934</td><td>-122.5979996</td></tr><tr><td>CLT</td><td>35.2140007019043</td><td>-80.94309997558594</td></tr><tr><td>TVC</td><td>44.74140167236328</td><td>-85.58219909667969</td></tr><tr><td>DCA</td><td>38.8521</td><td>-77.037697</td></tr><tr><td>SFO</td><td>37.61899948120117</td><td>-122.375</td></tr><tr><td>BDL</td><td>41.9388999939</td><td>-72.68319702149999</td></tr><tr><td>HOU</td><td>29.64539909</td><td>-95.27890015</td></tr><tr><td>GRR</td><td>42.88079834</td><td>-85.52279663</td></tr><tr><td>HDN</td><td>40.48120117</td><td>-107.2180023</td></tr><tr><td>EGE</td><td>39.64260101</td><td>-106.9179993</td></tr><tr><td>RIC</td><td>37.50519943237305</td><td>-77.3197021484375</td></tr><tr><td>LEX</td><td>38.0364990234375</td><td>-84.60590362548828</td></tr><tr><td>MHT</td><td>42.932598</td><td>-71.435699</td></tr><tr><td>LGB</td><td>33.817699</td><td>-118.152</td></tr><tr><td>BUF</td><td>42.94049835</td><td>-78.73220062</td></tr><tr><td>TYS</td><td>35.81100082</td><td>-83.9940033</td></tr><tr><td>FLL</td><td>26.072599</td><td>-80.152702</td></tr><tr><td>TUL</td><td>36.19839859008789</td><td>-95.88809967041016</td></tr><tr><td>AVL</td><td>35.436199</td><td>-82.541801</td></tr><tr><td>BZN</td><td>45.77750015</td><td>-111.1529999</td></tr><tr><td>MYR</td><td>33.6796989441</td><td>-78.9282989502</td></tr><tr><td>ALB</td><td>42.74829864501953</td><td>-73.80169677734375</td></tr><tr><td>MIA</td><td>25.79319953918457</td><td>-80.29060363769531</td></tr><tr><td>AUS</td><td>30.197535</td><td>-97.662015</td></tr><tr><td>PHL</td><td>39.87189865112305</td><td>-75.24109649658203</td></tr><tr><td>SYR</td><td>43.11119842529297</td><td>-76.1063003540039</td></tr><tr><td>MSN</td><td>43.1399</td><td>-89.337502</td></tr><tr><td>PSP</td><td>33.8297</td><td>-116.507004</td></tr><tr><td>EYW</td><td>24.556101</td><td>-81.759598</td></tr><tr><td>CMH</td><td>39.998001</td><td>-82.891899</td></tr><tr><td>MVY</td><td>41.3931007385</td><td>-70.6143035889</td></tr><tr><td>CAK</td><td>40.916099548339844</td><td>-81.44219970703125</td></tr><tr><td>CHS</td><td>32.898602</td><td>-80.040497</td></tr><tr><td>LAS</td><td>36.08010101</td><td>-115.1520004</td></tr><tr><td>IAD</td><td>38.9445</td><td>-77.455803</td></tr><tr><td>BNA</td><td>36.1245002746582</td><td>-86.6781997680664</td></tr><tr><td>RDU</td><td>35.877601623535156</td><td>-78.7874984741211</td></tr><tr><td>SLC</td><td>40.785749</td><td>-111.979746</td></tr><tr><td>RSW</td><td>26.53619956970215</td><td>-81.75520324707031</td></tr><tr><td>XNA</td><td>36.281898</td><td>-94.306801</td></tr><tr><td>IND</td><td>39.7173</td><td>-86.294403</td></tr><tr><td>OKC</td><td>35.39310073852539</td><td>-97.60070037841797</td></tr><tr><td>DTW</td><td>42.212398529052734</td><td>-83.35340118408203</td></tr><tr><td>PWM</td><td>43.646198</td><td>-70.309303</td></tr><tr><td>ORD</td><td>41.9786</td><td>-87.9048</td></tr><tr><td>BTV</td><td>44.471900939899996</td><td>-73.15329742429999</td></tr><tr><td>CHO</td><td>38.13859939575195</td><td>-78.4529037475586</td></tr><tr><td>IAH</td><td>29.984399795532227</td><td>-95.34140014648438</td></tr><tr><td>ACK</td><td>41.25310135</td><td>-70.06020355</td></tr><tr><td>ATL</td><td>33.6367</td><td>-84.428101</td></tr><tr><td>MKE</td><td>42.947200775146484</td><td>-87.89659881591797</td></tr><tr><td>MCI</td><td>39.2976</td><td>-94.713898</td></tr><tr><td>SAT</td><td>29.533701</td><td>-98.469803</td></tr><tr><td>JAX</td><td>30.49410057067871</td><td>-81.68789672851562</td></tr><tr><td>SAN</td><td>32.7336006165</td><td>-117.190002441</td></tr><tr><td>PHX</td><td>33.435302</td><td>-112.005905</td></tr><tr><td>ILM</td><td>34.270599365234375</td><td>-77.90260314941406</td></tr><tr><td>ABQ</td><td>35.040199</td><td>-106.609001</td></tr><tr><td>PIT</td><td>40.49150085</td><td>-80.23290253</td></tr><tr><td>BGR</td><td>44.80739974975586</td><td>-68.8281021118164</td></tr><tr><td>BHM</td><td>33.56290054</td><td>-86.75350189</td></tr><tr><td>GSO</td><td>36.097801208496094</td><td>-79.93730163574219</td></tr><tr><td>CRW</td><td>38.37310028076172</td><td>-81.59320068359375</td></tr><tr><td>CVG</td><td>39.048801</td><td>-84.667801</td></tr><tr><td>DSM</td><td>41.534</td><td>-93.663101</td></tr><tr><td>CLE</td><td>41.4117012024</td><td>-81.8498001099</td></tr><tr><td>SEA</td><td>47.449001</td><td>-122.308998</td></tr><tr><td>BOS</td><td>42.3643</td><td>-71.005203</td></tr><tr><td>BWI</td><td>39.1754</td><td>-76.668297</td></tr><tr><td>STL</td><td>38.748697</td><td>-90.370003</td></tr><tr><td>ORF</td><td>36.89459991455078</td><td>-76.20120239257812</td></tr><tr><td>TPA</td><td>27.975500106811523</td><td>-82.533203125</td></tr><tr><td>MTJ</td><td>38.509799957300004</td><td>-107.893997192</td></tr><tr><td>LGA</td><td>40.777199</td><td>-73.872597</td></tr><tr><td>BUR</td><td>34.197703</td><td>-118.356378</td></tr><tr><td>DAY</td><td>39.902400970458984</td><td>-84.21939849853516</td></tr><tr><td>PVD</td><td>41.732601</td><td>-71.420403</td></tr><tr><td>MEM</td><td>35.04240036010742</td><td>-89.97669982910156</td></tr><tr><td>SBN</td><td>41.708698</td><td>-86.317299</td></tr><tr><td>DFW</td><td>32.896801</td><td>-97.038002</td></tr><tr><td>SRQ</td><td>27.39539909362793</td><td>-82.55439758300781</td></tr><tr><td>OAK</td><td>37.721298</td><td>-122.221001</td></tr><tr><td>SAV</td><td>32.12760162</td><td>-81.20210266</td></tr><tr><td>GSP</td><td>34.895699</td><td>-82.218903</td></tr><tr><td>SJC</td><td>37.362598</td><td>-121.929001</td></tr><tr><td>SDF</td><td>38.1744</td><td>-85.736</td></tr><tr><td>SMF</td><td>38.69540023803711</td><td>-121.59100341796875</td></tr><tr><td>PBI</td><td>26.68320083618164</td><td>-80.09559631347656</td></tr><tr><td>OMA</td><td>41.3032</td><td>-95.894096</td></tr><tr><td>ROC</td><td>43.1189</td><td>-77.672401</td></tr><tr><td>MSY</td><td>29.99340057373047</td><td>-90.25800323486328</td></tr><tr><td>EWR</td><td>40.692501</td><td>-74.168701</td></tr><tr><td>MCO</td><td>28.429399490356445</td><td>-81.30899810791016</td></tr><tr><td>DEN</td><td>39.861698150635</td><td>-104.672996521</td></tr><tr><td>JFK</td><td>40.639801</td><td>-73.7789</td></tr><tr><td>JAC</td><td>43.6072998046875</td><td>-110.73799896240234</td></tr><tr><td>SNA</td><td>33.675701</td><td>-117.867996</td></tr><tr><td>CAE</td><td>33.93880081176758</td><td>-81.11949920654297</td></tr><tr><td>LAX</td><td>33.942501</td><td>-118.407997</td></tr><tr><td>MSP</td><td>44.882</td><td>-93.221802</td></tr><tr><td>BQN</td><td>10.1698</td><td>103.9931</td></tr><tr><td>ANC</td><td>61.1744</td><td>-149.996002</td></tr><tr><td>HNL</td><td>21.32062</td><td>-157.924228</td></tr><tr><td>PSE</td><td>18.00830078125</td><td>-66.56300354003906</td></tr><tr><td>STT</td><td>18.337299346923828</td><td>-64.97339630126953</td></tr><tr><td>SJU</td><td>18.4393997192</td><td>-66.0018005371</td></tr></tbody></table></div>"
      ]
     },
     "metadata": {
      "application/vnd.databricks.v1+output": {
       "addedWidgets": {},
       "aggData": [],
       "aggError": "",
       "aggOverflow": false,
       "aggSchema": [],
       "aggSeriesLimitReached": false,
       "aggType": "",
       "arguments": {},
       "columnCustomDisplayInfos": {},
       "data": [
        [
         "MDW",
         41.785999,
         -87.752403
        ],
        [
         "PDX",
         45.58869934,
         -122.5979996
        ],
        [
         "CLT",
         35.2140007019043,
         -80.94309997558594
        ],
        [
         "TVC",
         44.74140167236328,
         -85.58219909667969
        ],
        [
         "DCA",
         38.8521,
         -77.037697
        ],
        [
         "SFO",
         37.61899948120117,
         -122.375
        ],
        [
         "BDL",
         41.9388999939,
         -72.68319702149999
        ],
        [
         "HOU",
         29.64539909,
         -95.27890015
        ],
        [
         "GRR",
         42.88079834,
         -85.52279663
        ],
        [
         "HDN",
         40.48120117,
         -107.2180023
        ],
        [
         "EGE",
         39.64260101,
         -106.9179993
        ],
        [
         "RIC",
         37.50519943237305,
         -77.3197021484375
        ],
        [
         "LEX",
         38.0364990234375,
         -84.60590362548828
        ],
        [
         "MHT",
         42.932598,
         -71.435699
        ],
        [
         "LGB",
         33.817699,
         -118.152
        ],
        [
         "BUF",
         42.94049835,
         -78.73220062
        ],
        [
         "TYS",
         35.81100082,
         -83.9940033
        ],
        [
         "FLL",
         26.072599,
         -80.152702
        ],
        [
         "TUL",
         36.19839859008789,
         -95.88809967041016
        ],
        [
         "AVL",
         35.436199,
         -82.541801
        ],
        [
         "BZN",
         45.77750015,
         -111.1529999
        ],
        [
         "MYR",
         33.6796989441,
         -78.9282989502
        ],
        [
         "ALB",
         42.74829864501953,
         -73.80169677734375
        ],
        [
         "MIA",
         25.79319953918457,
         -80.29060363769531
        ],
        [
         "AUS",
         30.197535,
         -97.662015
        ],
        [
         "PHL",
         39.87189865112305,
         -75.24109649658203
        ],
        [
         "SYR",
         43.11119842529297,
         -76.1063003540039
        ],
        [
         "MSN",
         43.1399,
         -89.337502
        ],
        [
         "PSP",
         33.8297,
         -116.507004
        ],
        [
         "EYW",
         24.556101,
         -81.759598
        ],
        [
         "CMH",
         39.998001,
         -82.891899
        ],
        [
         "MVY",
         41.3931007385,
         -70.6143035889
        ],
        [
         "CAK",
         40.916099548339844,
         -81.44219970703125
        ],
        [
         "CHS",
         32.898602,
         -80.040497
        ],
        [
         "LAS",
         36.08010101,
         -115.1520004
        ],
        [
         "IAD",
         38.9445,
         -77.455803
        ],
        [
         "BNA",
         36.1245002746582,
         -86.6781997680664
        ],
        [
         "RDU",
         35.877601623535156,
         -78.7874984741211
        ],
        [
         "SLC",
         40.785749,
         -111.979746
        ],
        [
         "RSW",
         26.53619956970215,
         -81.75520324707031
        ],
        [
         "XNA",
         36.281898,
         -94.306801
        ],
        [
         "IND",
         39.7173,
         -86.294403
        ],
        [
         "OKC",
         35.39310073852539,
         -97.60070037841797
        ],
        [
         "DTW",
         42.212398529052734,
         -83.35340118408203
        ],
        [
         "PWM",
         43.646198,
         -70.309303
        ],
        [
         "ORD",
         41.9786,
         -87.9048
        ],
        [
         "BTV",
         44.471900939899996,
         -73.15329742429999
        ],
        [
         "CHO",
         38.13859939575195,
         -78.4529037475586
        ],
        [
         "IAH",
         29.984399795532227,
         -95.34140014648438
        ],
        [
         "ACK",
         41.25310135,
         -70.06020355
        ],
        [
         "ATL",
         33.6367,
         -84.428101
        ],
        [
         "MKE",
         42.947200775146484,
         -87.89659881591797
        ],
        [
         "MCI",
         39.2976,
         -94.713898
        ],
        [
         "SAT",
         29.533701,
         -98.469803
        ],
        [
         "JAX",
         30.49410057067871,
         -81.68789672851562
        ],
        [
         "SAN",
         32.7336006165,
         -117.190002441
        ],
        [
         "PHX",
         33.435302,
         -112.005905
        ],
        [
         "ILM",
         34.270599365234375,
         -77.90260314941406
        ],
        [
         "ABQ",
         35.040199,
         -106.609001
        ],
        [
         "PIT",
         40.49150085,
         -80.23290253
        ],
        [
         "BGR",
         44.80739974975586,
         -68.8281021118164
        ],
        [
         "BHM",
         33.56290054,
         -86.75350189
        ],
        [
         "GSO",
         36.097801208496094,
         -79.93730163574219
        ],
        [
         "CRW",
         38.37310028076172,
         -81.59320068359375
        ],
        [
         "CVG",
         39.048801,
         -84.667801
        ],
        [
         "DSM",
         41.534,
         -93.663101
        ],
        [
         "CLE",
         41.4117012024,
         -81.8498001099
        ],
        [
         "SEA",
         47.449001,
         -122.308998
        ],
        [
         "BOS",
         42.3643,
         -71.005203
        ],
        [
         "BWI",
         39.1754,
         -76.668297
        ],
        [
         "STL",
         38.748697,
         -90.370003
        ],
        [
         "ORF",
         36.89459991455078,
         -76.20120239257812
        ],
        [
         "TPA",
         27.975500106811523,
         -82.533203125
        ],
        [
         "MTJ",
         38.509799957300004,
         -107.893997192
        ],
        [
         "LGA",
         40.777199,
         -73.872597
        ],
        [
         "BUR",
         34.197703,
         -118.356378
        ],
        [
         "DAY",
         39.902400970458984,
         -84.21939849853516
        ],
        [
         "PVD",
         41.732601,
         -71.420403
        ],
        [
         "MEM",
         35.04240036010742,
         -89.97669982910156
        ],
        [
         "SBN",
         41.708698,
         -86.317299
        ],
        [
         "DFW",
         32.896801,
         -97.038002
        ],
        [
         "SRQ",
         27.39539909362793,
         -82.55439758300781
        ],
        [
         "OAK",
         37.721298,
         -122.221001
        ],
        [
         "SAV",
         32.12760162,
         -81.20210266
        ],
        [
         "GSP",
         34.895699,
         -82.218903
        ],
        [
         "SJC",
         37.362598,
         -121.929001
        ],
        [
         "SDF",
         38.1744,
         -85.736
        ],
        [
         "SMF",
         38.69540023803711,
         -121.59100341796875
        ],
        [
         "PBI",
         26.68320083618164,
         -80.09559631347656
        ],
        [
         "OMA",
         41.3032,
         -95.894096
        ],
        [
         "ROC",
         43.1189,
         -77.672401
        ],
        [
         "MSY",
         29.99340057373047,
         -90.25800323486328
        ],
        [
         "EWR",
         40.692501,
         -74.168701
        ],
        [
         "MCO",
         28.429399490356445,
         -81.30899810791016
        ],
        [
         "DEN",
         39.861698150635,
         -104.672996521
        ],
        [
         "JFK",
         40.639801,
         -73.7789
        ],
        [
         "JAC",
         43.6072998046875,
         -110.73799896240234
        ],
        [
         "SNA",
         33.675701,
         -117.867996
        ],
        [
         "CAE",
         33.93880081176758,
         -81.11949920654297
        ],
        [
         "LAX",
         33.942501,
         -118.407997
        ],
        [
         "MSP",
         44.882,
         -93.221802
        ],
        [
         "BQN",
         10.1698,
         103.9931
        ],
        [
         "ANC",
         61.1744,
         -149.996002
        ],
        [
         "HNL",
         21.32062,
         -157.924228
        ],
        [
         "PSE",
         18.00830078125,
         -66.56300354003906
        ],
        [
         "STT",
         18.337299346923828,
         -64.97339630126953
        ],
        [
         "SJU",
         18.4393997192,
         -66.0018005371
        ]
       ],
       "datasetInfos": [],
       "dbfsResultPath": null,
       "isJsonSchema": true,
       "metadata": {},
       "overflow": false,
       "plotOptions": {
        "customPlotOptions": {},
        "displayType": "table",
        "pivotAggregation": null,
        "pivotColumns": null,
        "xColumns": null,
        "yColumns": null
       },
       "removedWidgets": [],
       "schema": [
        {
         "metadata": "{}",
         "name": "airport_code",
         "type": "\"string\""
        },
        {
         "metadata": "{}",
         "name": "latitude_deg",
         "type": "\"double\""
        },
        {
         "metadata": "{}",
         "name": "longitude_deg",
         "type": "\"double\""
        }
       ],
       "type": "table"
      }
     },
     "output_type": "display_data"
    }
   ],
   "source": [
    "def fetch_airport_coordinates(list_airport_code, airportdb_key, cache_table=\"airportdb_cache\"):\n",
    "    \"\"\"\n",
    "    Busca e retorna as coordenadas (latitude e longitude) dos aeroportos cujos códigos estão presentes em list_airport_code,\n",
    "    utilizando a API do AirportDB. Utiliza um cache em tabela Spark para evitar requisições desnecessárias à API.\n",
    "\n",
    "    Parâmetros:\n",
    "        list_airport_code (list): Lista de códigos de aeroportos a serem consultados.\n",
    "        airportdb_key (str): Chave de acesso à API do AirportDB.\n",
    "        cache_table (str, opcional): Nome da tabela Spark usada como cache dos resultados. Padrão: \"airportdb_cache\".\n",
    "\n",
    "    Retorna:\n",
    "        DataFrame: DataFrame Spark contendo as colunas 'airport_code', 'latitude_deg' e 'longitude_deg' com as coordenadas dos aeroportos.\n",
    "    \"\"\"\n",
    "    special_codes = {\n",
    "        \"BQN\": \"VVPQ\",\n",
    "        \"SJU\": \"TJSJ\",\n",
    "        \"HNL\": \"PHNL\",\n",
    "        \"STT\": \"TIST\",\n",
    "        \"PSE\": \"TJPS\",\n",
    "        \"ANC\": \"PANC\"\n",
    "    }\n",
    "\n",
    "    try:\n",
    "        df_cache = spark.table(cache_table)\n",
    "        cached_codes = set(row.airport_code for row in df_cache.select(\"airport_code\").collect())\n",
    "    except AnalysisException:\n",
    "        df_cache = None\n",
    "        cached_codes = set()\n",
    "\n",
    "    codes_to_fetch = [code for code in list_airport_code if code not in cached_codes]\n",
    "    records = []\n",
    "\n",
    "    for airport_code in codes_to_fetch:\n",
    "        if airport_code in special_codes:\n",
    "            query_code = special_codes[airport_code]\n",
    "        else:\n",
    "            query_code = f\"K{airport_code}\"\n",
    "        url = f\"https://airportdb.io/api/v1/airport/{query_code}?apiToken={airportdb_key}\"\n",
    "        response = requests.get(url)\n",
    "        if response.status_code == 200:\n",
    "            data = response.json()\n",
    "            latitude = data.get(\"latitude_deg\")\n",
    "            longitude = data.get(\"longitude_deg\")\n",
    "            records.append((airport_code, latitude, longitude))\n",
    "\n",
    "    df_new = spark.createDataFrame(records, [\"airport_code\", \"latitude_deg\", \"longitude_deg\"]) if records else None\n",
    "\n",
    "    if df_cache is not None and df_new is not None:\n",
    "        df_airportdb = df_cache.unionByName(df_new).dropDuplicates([\"airport_code\"])\n",
    "    elif df_cache is not None:\n",
    "        df_airportdb = df_cache\n",
    "    elif df_new is not None:\n",
    "        df_airportdb = df_new\n",
    "    else:\n",
    "        df_airportdb = spark.createDataFrame([], \"airport_code string, latitude_deg double, longitude_deg double\")\n",
    "\n",
    "    df_airportdb.write.mode(\"overwrite\").saveAsTable(cache_table)\n",
    "    return df_airportdb\n",
    "\n",
    "df_airportdb = fetch_airport_coordinates(list_airport_code, airportdb_key)\n",
    "display(df_airportdb)"
   ]
  },
  {
   "cell_type": "code",
   "execution_count": 0,
   "metadata": {
    "application/vnd.databricks.v1+cell": {
     "cellMetadata": {
      "byteLimit": 2048000,
      "rowLimit": 10000
     },
     "inputWidgets": {},
     "nuid": "4c4262f5-8b9b-4385-bc3c-34bf9b42a42e",
     "showTitle": false,
     "tableResultSettingsMap": {},
     "title": ""
    }
   },
   "outputs": [
    {
     "name": "stdout",
     "output_type": "stream",
     "text": [
      "\n",
      " airportdb.csv criado com sucesso!\n"
     ]
    }
   ],
   "source": [
    "UC_VOLUME_PATH = '/Volumes/airports_database/default/airports_database/'\n",
    "CSV_FILE_NAME = 'airportdb.csv'\n",
    "FINAL_UC_PATH = UC_VOLUME_PATH + CSV_FILE_NAME\n",
    "\n",
    "df_airportdb.coalesce(1).write.format(\"csv\") \\\n",
    "    .option(\"header\", \"true\") \\\n",
    "    .option(\"sep\", \";\") \\\n",
    "    .mode(\"overwrite\") \\\n",
    "    .save(FINAL_UC_PATH)\n",
    "\n",
    "print(f\"\\n {CSV_FILE_NAME} criado com sucesso!\")\n"
   ]
  },
  {
   "cell_type": "code",
   "execution_count": 0,
   "metadata": {
    "application/vnd.databricks.v1+cell": {
     "cellMetadata": {
      "byteLimit": 2048000,
      "rowLimit": 10000
     },
     "inputWidgets": {},
     "nuid": "9779e3c4-26ca-4102-b350-7cf51c4ff4c1",
     "showTitle": false,
     "tableResultSettingsMap": {},
     "title": ""
    }
   },
   "outputs": [],
   "source": [
    "def adicionar_coordenadas_aeroportos(df_aeroportos, df_airportdb):\n",
    "    \"\"\"\n",
    "    Realiza o join do DataFrame de voos (df_aeroportos) com o DataFrame de coordenadas dos aeroportos (df_airportdb),\n",
    "    adicionando as colunas de latitude e longitude tanto para o aeroporto de origem quanto para o de destino.\n",
    "\n",
    "    Parâmetros:\n",
    "        df_aeroportos (DataFrame): DataFrame Spark contendo informações dos voos, incluindo as colunas 'origin' e 'dest'.\n",
    "        df_airportdb (DataFrame): DataFrame Spark contendo as colunas 'airport_code', 'latitude_deg' e 'longitude_deg' com as coordenadas dos aeroportos.\n",
    "\n",
    "    Retorna:\n",
    "        DataFrame: DataFrame Spark resultante do join, contendo as colunas originais de df_aeroportos acrescidas de:\n",
    "            - origin_latitude, origin_longitude: coordenadas do aeroporto de origem\n",
    "            - dest_latitude, dest_longitude: coordenadas do aeroporto de destino\n",
    "    \"\"\"\n",
    "    return (\n",
    "        df_aeroportos\n",
    "        .join(\n",
    "            df_airportdb.withColumnRenamed(\"airport_code\", \"origin_code\")\n",
    "                        .withColumnRenamed(\"latitude_deg\", \"origin_latitude\")\n",
    "                        .withColumnRenamed(\"longitude_deg\", \"origin_longitude\"),\n",
    "            df_aeroportos.origin == col(\"origin_code\"),\n",
    "            \"left\"\n",
    "        )\n",
    "        .join(\n",
    "            df_airportdb.withColumnRenamed(\"airport_code\", \"dest_code\")\n",
    "                        .withColumnRenamed(\"latitude_deg\", \"dest_latitude\")\n",
    "                        .withColumnRenamed(\"longitude_deg\", \"dest_longitude\"),\n",
    "            df_aeroportos.dest == col(\"dest_code\"),\n",
    "            \"left\"\n",
    "        )\n",
    "        .drop(\"origin_code\", \"dest_code\")\n",
    "    )\n",
    "\n",
    "df_aeroportos_coordinates = adicionar_coordenadas_aeroportos(df_aeroportos, df_airportdb)"
   ]
  },
  {
   "cell_type": "code",
   "execution_count": 0,
   "metadata": {
    "application/vnd.databricks.v1+cell": {
     "cellMetadata": {
      "byteLimit": 2048000,
      "rowLimit": 10000
     },
     "inputWidgets": {},
     "nuid": "e841530d-5e91-4af1-b0cd-506f3fda57f2",
     "showTitle": false,
     "tableResultSettingsMap": {
      "0": {
       "dataGridStateBlob": "{\"version\":1,\"tableState\":{\"columnPinning\":{\"left\":[\"#row_number#\"],\"right\":[]},\"columnSizing\":{},\"columnVisibility\":{}},\"settings\":{\"columns\":{}},\"syncTimestamp\":1761012870317}",
       "filterBlob": null,
       "queryPlanFiltersBlob": null,
       "tableResultIndex": 0
      }
     },
     "title": ""
    }
   },
   "outputs": [
    {
     "data": {
      "text/html": [
       "<style scoped>\n",
       "  .table-result-container {\n",
       "    max-height: 300px;\n",
       "    overflow: auto;\n",
       "  }\n",
       "  table, th, td {\n",
       "    border: 1px solid black;\n",
       "    border-collapse: collapse;\n",
       "  }\n",
       "  th, td {\n",
       "    padding: 5px;\n",
       "  }\n",
       "  th {\n",
       "    text-align: left;\n",
       "  }\n",
       "</style><div class='table-result-container'><table class='table-result'><thead style='background-color: white'><tr><th>id</th><th>location</th><th>time_hour</th><th>latitude</th><th>longitude</th><th>arr_delay</th><th>start_date</th><th>end_date</th><th>hour</th><th>hour_delay</th></tr></thead><tbody><tr><td>7072</td><td>HNL</td><td>2013-01-09T15:30:00.000Z</td><td>21.32062</td><td>-157.924228</td><td>1272.0</td><td>2013-01-09</td><td>2013-01-10</td><td>15:00:00</td><td>12:72</td></tr><tr><td>7072</td><td>JFK</td><td>2013-01-09T09:00:00.000Z</td><td>40.639801</td><td>-73.7789</td><td>1272.0</td><td>2013-01-09</td><td>2013-01-10</td><td>09:00:00</td><td>12:72</td></tr><tr><td>235778</td><td>JFK</td><td>2013-06-15T19:00:00.000Z</td><td>40.639801</td><td>-73.7789</td><td>1127.0</td><td>2013-06-15</td><td>2013-06-16</td><td>19:00:00</td><td>11:27</td></tr><tr><td>235778</td><td>CMH</td><td>2013-06-15T21:20:00.000Z</td><td>39.998001</td><td>-82.891899</td><td>1127.0</td><td>2013-06-15</td><td>2013-06-16</td><td>21:00:00</td><td>11:27</td></tr><tr><td>8239</td><td>EWR</td><td>2013-01-10T16:00:00.000Z</td><td>40.692501</td><td>-74.168701</td><td>1109.0</td><td>2013-01-10</td><td>2013-01-11</td><td>16:00:00</td><td>11:09</td></tr><tr><td>8239</td><td>ORD</td><td>2013-01-10T18:10:00.000Z</td><td>41.9786</td><td>-87.9048</td><td>1109.0</td><td>2013-01-10</td><td>2013-01-11</td><td>18:00:00</td><td>11:09</td></tr><tr><td>327043</td><td>JFK</td><td>2013-09-20T18:00:00.000Z</td><td>40.639801</td><td>-73.7789</td><td>1007.0</td><td>2013-09-20</td><td>2013-09-21</td><td>18:00:00</td><td>10:07</td></tr><tr><td>327043</td><td>SFO</td><td>2013-09-20T22:10:00.000Z</td><td>37.61899948120117</td><td>-122.375</td><td>1007.0</td><td>2013-09-20</td><td>2013-09-21</td><td>22:00:00</td><td>10:07</td></tr><tr><td>270376</td><td>JFK</td><td>2013-07-22T16:00:00.000Z</td><td>40.639801</td><td>-73.7789</td><td>989.0</td><td>2013-07-22</td><td>2013-07-23</td><td>16:00:00</td><td>09:89</td></tr><tr><td>270376</td><td>CVG</td><td>2013-07-22T18:15:00.000Z</td><td>39.048801</td><td>-84.667801</td><td>989.0</td><td>2013-07-22</td><td>2013-07-23</td><td>18:00:00</td><td>09:89</td></tr></tbody></table></div>"
      ]
     },
     "metadata": {
      "application/vnd.databricks.v1+output": {
       "addedWidgets": {},
       "aggData": [],
       "aggError": "",
       "aggOverflow": false,
       "aggSchema": [],
       "aggSeriesLimitReached": false,
       "aggType": "",
       "arguments": {},
       "columnCustomDisplayInfos": {},
       "data": [
        [
         7072,
         "HNL",
         "2013-01-09T15:30:00.000Z",
         21.32062,
         -157.924228,
         1272,
         "2013-01-09",
         "2013-01-10",
         "15:00:00",
         "12:72"
        ],
        [
         7072,
         "JFK",
         "2013-01-09T09:00:00.000Z",
         40.639801,
         -73.7789,
         1272,
         "2013-01-09",
         "2013-01-10",
         "09:00:00",
         "12:72"
        ],
        [
         235778,
         "JFK",
         "2013-06-15T19:00:00.000Z",
         40.639801,
         -73.7789,
         1127,
         "2013-06-15",
         "2013-06-16",
         "19:00:00",
         "11:27"
        ],
        [
         235778,
         "CMH",
         "2013-06-15T21:20:00.000Z",
         39.998001,
         -82.891899,
         1127,
         "2013-06-15",
         "2013-06-16",
         "21:00:00",
         "11:27"
        ],
        [
         8239,
         "EWR",
         "2013-01-10T16:00:00.000Z",
         40.692501,
         -74.168701,
         1109,
         "2013-01-10",
         "2013-01-11",
         "16:00:00",
         "11:09"
        ],
        [
         8239,
         "ORD",
         "2013-01-10T18:10:00.000Z",
         41.9786,
         -87.9048,
         1109,
         "2013-01-10",
         "2013-01-11",
         "18:00:00",
         "11:09"
        ],
        [
         327043,
         "JFK",
         "2013-09-20T18:00:00.000Z",
         40.639801,
         -73.7789,
         1007,
         "2013-09-20",
         "2013-09-21",
         "18:00:00",
         "10:07"
        ],
        [
         327043,
         "SFO",
         "2013-09-20T22:10:00.000Z",
         37.61899948120117,
         -122.375,
         1007,
         "2013-09-20",
         "2013-09-21",
         "22:00:00",
         "10:07"
        ],
        [
         270376,
         "JFK",
         "2013-07-22T16:00:00.000Z",
         40.639801,
         -73.7789,
         989,
         "2013-07-22",
         "2013-07-23",
         "16:00:00",
         "09:89"
        ],
        [
         270376,
         "CVG",
         "2013-07-22T18:15:00.000Z",
         39.048801,
         -84.667801,
         989,
         "2013-07-22",
         "2013-07-23",
         "18:00:00",
         "09:89"
        ]
       ],
       "datasetInfos": [],
       "dbfsResultPath": null,
       "isJsonSchema": true,
       "metadata": {},
       "overflow": false,
       "plotOptions": {
        "customPlotOptions": {},
        "displayType": "table",
        "pivotAggregation": null,
        "pivotColumns": null,
        "xColumns": null,
        "yColumns": null
       },
       "removedWidgets": [],
       "schema": [
        {
         "metadata": "{}",
         "name": "id",
         "type": "\"integer\""
        },
        {
         "metadata": "{}",
         "name": "location",
         "type": "\"string\""
        },
        {
         "metadata": "{}",
         "name": "time_hour",
         "type": "\"timestamp\""
        },
        {
         "metadata": "{}",
         "name": "latitude",
         "type": "\"double\""
        },
        {
         "metadata": "{}",
         "name": "longitude",
         "type": "\"double\""
        },
        {
         "metadata": "{}",
         "name": "arr_delay",
         "type": "\"double\""
        },
        {
         "metadata": "{}",
         "name": "start_date",
         "type": "\"string\""
        },
        {
         "metadata": "{}",
         "name": "end_date",
         "type": "\"string\""
        },
        {
         "metadata": "{}",
         "name": "hour",
         "type": "\"string\""
        },
        {
         "metadata": "{}",
         "name": "hour_delay",
         "type": "\"string\""
        }
       ],
       "type": "table"
      }
     },
     "output_type": "display_data"
    }
   ],
   "source": [
    "# Cria DataFrame com informações do aeroporto de origem\n",
    "df_origin = df_aeroportos_coordinates.select(\n",
    "    col(\"id\"),\n",
    "    col(\"origin\").alias(\"location\"),\n",
    "    col(\"time_hour\"),\n",
    "    col(\"origin_latitude\").alias(\"latitude\"),\n",
    "    col(\"origin_longitude\").alias(\"longitude\"),\n",
    "    col(\"arr_delay\")\n",
    ")\n",
    "\n",
    "# Cria DataFrame com informações do aeroporto de destino, ajustando o campo de horário\n",
    "df_dest = df_aeroportos_coordinates.withColumn(\n",
    "    \"time_hour\",\n",
    "    to_timestamp(\n",
    "        concat(\n",
    "            col(\"year\"), lit(\"-\"),\n",
    "            lpad(col(\"month\"), 2, \"0\"), lit(\"-\"),\n",
    "            lpad(col(\"day\"), 2, \"0\"), lit(\" \"),\n",
    "            lpad(col(\"sched_arr_time\").cast(\"string\"), 4, \"0\")\n",
    "        ),\n",
    "        \"yyyy-MM-dd HHmm\"\n",
    "    )\n",
    ").select(\n",
    "    col(\"id\"),\n",
    "    col(\"dest\").alias(\"location\"),\n",
    "    col(\"time_hour\"),\n",
    "    col(\"dest_latitude\").alias(\"latitude\"),\n",
    "    col(\"dest_longitude\").alias(\"longitude\"),\n",
    "    col(\"arr_delay\")\n",
    ")\n",
    "\n",
    "# Une os DataFrames de origem e destino\n",
    "df_prep_wind = df_origin.union(df_dest)\n",
    "\n",
    "# Adiciona coluna de data inicial no formato yyyy-MM-dd\n",
    "df_prep_wind = df_prep_wind.withColumn(\"start_date\", date_format(col(\"time_hour\"), \"yyyy-MM-dd\"))\n",
    "# Adiciona coluna de data final (um dia após a data inicial) no formato yyyy-MM-dd\n",
    "df_prep_wind = df_prep_wind.withColumn(\"end_date\", date_format(date_add(col(\"time_hour\"), 1), \"yyyy-MM-dd\"))\n",
    "# Adiciona coluna de hora no formato HH:00:00\n",
    "df_prep_wind = df_prep_wind.withColumn(\"hour\", date_format(col(\"time_hour\"), \"HH:00:00\"))\n",
    "\n",
    "# Adiciona coluna de atraso formatado em horas e minutos\n",
    "df_prep_wind = df_prep_wind.withColumn(\n",
    "    \"hour_delay\",\n",
    "    when(\n",
    "        (col(\"arr_delay\").cast(\"int\").isNotNull()) & (col(\"arr_delay\").cast(\"int\") > 0),\n",
    "        concat(\n",
    "            lpad((col(\"arr_delay\").cast(\"int\") / 100).cast(\"int\").cast(\"string\"), 2, \"0\"),\n",
    "            lit(\":\"),\n",
    "            lpad((col(\"arr_delay\").cast(\"int\") % 100).cast(\"string\"), 2, \"0\")\n",
    "        )\n",
    "    ).otherwise(None)\n",
    ")\n",
    "\n",
    "# Ordena pelo maior atraso e seleciona os 10 maiores\n",
    "df_prep_wind = df_prep_wind.orderBy(desc(\"arr_delay\")).limit(10)\n",
    "\n",
    "display(df_prep_wind)"
   ]
  },
  {
   "cell_type": "markdown",
   "metadata": {
    "application/vnd.databricks.v1+cell": {
     "cellMetadata": {
      "byteLimit": 2048000,
      "rowLimit": 10000
     },
     "inputWidgets": {},
     "nuid": "5af04c3c-0890-4d9d-9d39-0be74c434acb",
     "showTitle": false,
     "tableResultSettingsMap": {},
     "title": ""
    }
   },
   "source": [
    "Weatherbit API"
   ]
  },
  {
   "cell_type": "code",
   "execution_count": 0,
   "metadata": {
    "application/vnd.databricks.v1+cell": {
     "cellMetadata": {
      "byteLimit": 2048000,
      "rowLimit": 10000
     },
     "inputWidgets": {},
     "nuid": "d8005070-5353-4df1-b7ad-9176b2e6a32e",
     "showTitle": false,
     "tableResultSettingsMap": {},
     "title": ""
    }
   },
   "outputs": [],
   "source": [
    "with open(\"/Workspace/Users/ulisses.bomjardim@gmail.com/ulisses.bomjardim@gmail.com/PicPay/config/.venv\", \"r\") as f:\n",
    "    for line in f:\n",
    "        if line.startswith(\"WEATHERBIT_CLIENT_SECRET=\"):\n",
    "            weatherbit_key = line.split(\"=\", 1)[1].strip().replace('\"', '')\n",
    "            break"
   ]
  },
  {
   "cell_type": "code",
   "execution_count": 0,
   "metadata": {
    "application/vnd.databricks.v1+cell": {
     "cellMetadata": {
      "byteLimit": 2048000,
      "rowLimit": 10000
     },
     "inputWidgets": {},
     "nuid": "cf9afe5c-f787-4d25-a40d-c3b100b9aa63",
     "showTitle": false,
     "tableResultSettingsMap": {},
     "title": ""
    }
   },
   "outputs": [
    {
     "data": {
      "text/html": [
       "<style scoped>\n",
       "  .table-result-container {\n",
       "    max-height: 300px;\n",
       "    overflow: auto;\n",
       "  }\n",
       "  table, th, td {\n",
       "    border: 1px solid black;\n",
       "    border-collapse: collapse;\n",
       "  }\n",
       "  th, td {\n",
       "    padding: 5px;\n",
       "  }\n",
       "  th {\n",
       "    text-align: left;\n",
       "  }\n",
       "</style><div class='table-result-container'><table class='table-result'><thead style='background-color: white'><tr><th>id</th><th>location</th><th>time_hour</th><th>latitude</th><th>longitude</th><th>wind_spd</th></tr></thead><tbody><tr><td>7072</td><td>HNL</td><td>2013-01-09T15:30:00.000Z</td><td>21.32062</td><td>-157.924228</td><td>5.5</td></tr><tr><td>7072</td><td>JFK</td><td>2013-01-09T09:00:00.000Z</td><td>40.639801</td><td>-73.7789</td><td>3.5</td></tr><tr><td>235778</td><td>JFK</td><td>2013-06-15T19:00:00.000Z</td><td>40.639801</td><td>-73.7789</td><td>4.1</td></tr><tr><td>235778</td><td>CMH</td><td>2013-06-15T21:20:00.000Z</td><td>39.998001</td><td>-82.891899</td><td>1.9</td></tr><tr><td>8239</td><td>EWR</td><td>2013-01-10T16:00:00.000Z</td><td>40.692501</td><td>-74.168701</td><td>4.1</td></tr><tr><td>8239</td><td>ORD</td><td>2013-01-10T18:10:00.000Z</td><td>41.9786</td><td>-87.9048</td><td>4.1</td></tr><tr><td>327043</td><td>JFK</td><td>2013-09-20T18:00:00.000Z</td><td>40.639801</td><td>-73.7789</td><td>3.7</td></tr><tr><td>327043</td><td>SFO</td><td>2013-09-20T22:10:00.000Z</td><td>37.61899948120117</td><td>-122.375</td><td>4.3</td></tr><tr><td>270376</td><td>JFK</td><td>2013-07-22T16:00:00.000Z</td><td>40.639801</td><td>-73.7789</td><td>3.2</td></tr><tr><td>270376</td><td>CVG</td><td>2013-07-22T18:15:00.000Z</td><td>39.048801</td><td>-84.667801</td><td>2.3</td></tr></tbody></table></div>"
      ]
     },
     "metadata": {
      "application/vnd.databricks.v1+output": {
       "addedWidgets": {},
       "aggData": [],
       "aggError": "",
       "aggOverflow": false,
       "aggSchema": [],
       "aggSeriesLimitReached": false,
       "aggType": "",
       "arguments": {},
       "columnCustomDisplayInfos": {},
       "data": [
        [
         7072,
         "HNL",
         "2013-01-09T15:30:00.000Z",
         21.32062,
         -157.924228,
         5.5
        ],
        [
         7072,
         "JFK",
         "2013-01-09T09:00:00.000Z",
         40.639801,
         -73.7789,
         3.5
        ],
        [
         235778,
         "JFK",
         "2013-06-15T19:00:00.000Z",
         40.639801,
         -73.7789,
         4.1
        ],
        [
         235778,
         "CMH",
         "2013-06-15T21:20:00.000Z",
         39.998001,
         -82.891899,
         1.9
        ],
        [
         8239,
         "EWR",
         "2013-01-10T16:00:00.000Z",
         40.692501,
         -74.168701,
         4.1
        ],
        [
         8239,
         "ORD",
         "2013-01-10T18:10:00.000Z",
         41.9786,
         -87.9048,
         4.1
        ],
        [
         327043,
         "JFK",
         "2013-09-20T18:00:00.000Z",
         40.639801,
         -73.7789,
         3.7
        ],
        [
         327043,
         "SFO",
         "2013-09-20T22:10:00.000Z",
         37.61899948120117,
         -122.375,
         4.3
        ],
        [
         270376,
         "JFK",
         "2013-07-22T16:00:00.000Z",
         40.639801,
         -73.7789,
         3.2
        ],
        [
         270376,
         "CVG",
         "2013-07-22T18:15:00.000Z",
         39.048801,
         -84.667801,
         2.3
        ]
       ],
       "datasetInfos": [],
       "dbfsResultPath": null,
       "isJsonSchema": true,
       "metadata": {},
       "overflow": false,
       "plotOptions": {
        "customPlotOptions": {},
        "displayType": "table",
        "pivotAggregation": null,
        "pivotColumns": null,
        "xColumns": null,
        "yColumns": null
       },
       "removedWidgets": [],
       "schema": [
        {
         "metadata": "{}",
         "name": "id",
         "type": "\"long\""
        },
        {
         "metadata": "{}",
         "name": "location",
         "type": "\"string\""
        },
        {
         "metadata": "{}",
         "name": "time_hour",
         "type": "\"timestamp\""
        },
        {
         "metadata": "{}",
         "name": "latitude",
         "type": "\"double\""
        },
        {
         "metadata": "{}",
         "name": "longitude",
         "type": "\"double\""
        },
        {
         "metadata": "{}",
         "name": "wind_spd",
         "type": "\"double\""
        }
       ],
       "type": "table"
      }
     },
     "output_type": "display_data"
    }
   ],
   "source": [
    "def fetch_wind_speed(df_prep_wind, weatherbit_key):\n",
    "    \"\"\"\n",
    "    Busca e retorna a velocidade do vento (wind_spd) para cada registro do DataFrame fornecido,\n",
    "    utilizando a API do Weatherbit. Para cada linha do DataFrame, realiza uma requisição à API\n",
    "    com as coordenadas, data de início e fim, e armazena a velocidade do vento retornada.\n",
    "\n",
    "    Parâmetros:\n",
    "        df_prep_wind (DataFrame): DataFrame Spark contendo as colunas 'id', 'location', 'latitude', 'longitude', 'start_date', 'end_date', 'hour', 'time_hour'.\n",
    "        weatherbit_key (str): Chave de acesso à API do Weatherbit.\n",
    "\n",
    "    Retorna:\n",
    "        DataFrame: DataFrame Spark contendo as colunas 'id', 'location', 'time_hour', 'latitude', 'longitude', 'wind_spd' com a velocidade do vento para cada registro.\n",
    "    \"\"\"\n",
    "    url = 'https://api.weatherbit.io/v2.0/history/daily'\n",
    "    records = []\n",
    "    rows = df_prep_wind.select(\"id\", \"location\", \"latitude\", \"longitude\", \"start_date\", \"end_date\", \"hour\", \"time_hour\").collect()\n",
    "    for row in rows:\n",
    "        params = {\n",
    "            'lat': row['latitude'],\n",
    "            'lon': row['longitude'],\n",
    "            'start_date': row['start_date'],\n",
    "            'end_date': row['end_date'],\n",
    "            'key': weatherbit_key,\n",
    "        }\n",
    "        headers = {'Accept': 'application/json'}\n",
    "        response = requests.get(url, params=params, headers=headers)\n",
    "        wind_spd = None\n",
    "        if response.status_code == 200:\n",
    "            data = response.json()\n",
    "            if \"data\" in data and len(data[\"data\"]) > 0:\n",
    "                wind_spd = data[\"data\"][0].get(\"wind_spd\")\n",
    "        records.append((row['id'], row['location'], row['time_hour'], row['latitude'], row['longitude'], wind_spd))\n",
    "    df_aeroportos_wind = spark.createDataFrame(records, [\"id\", \"location\", \"time_hour\", \"latitude\", \"longitude\", \"wind_spd\"])\n",
    "    return df_aeroportos_wind\n",
    "\n",
    "df_aeroportos_wind = fetch_wind_speed(df_prep_wind, weatherbit_key)\n",
    "display(df_aeroportos_wind)"
   ]
  },
  {
   "cell_type": "code",
   "execution_count": 0,
   "metadata": {
    "application/vnd.databricks.v1+cell": {
     "cellMetadata": {
      "byteLimit": 2048000,
      "rowLimit": 10000
     },
     "inputWidgets": {},
     "nuid": "a6ea9f89-0917-47e8-8aaf-0d3dcb1bae60",
     "showTitle": false,
     "tableResultSettingsMap": {},
     "title": ""
    }
   },
   "outputs": [
    {
     "name": "stdout",
     "output_type": "stream",
     "text": [
      "\n",
      " aeroportos_wind.csv criado com sucesso!\n"
     ]
    }
   ],
   "source": [
    "UC_VOLUME_PATH = '/Volumes/airports_database/default/airports_database/'\n",
    "CSV_FILE_NAME = 'aeroportos_wind.csv'\n",
    "FINAL_UC_PATH = UC_VOLUME_PATH + CSV_FILE_NAME\n",
    "\n",
    "df_aeroportos_wind.coalesce(1).write.format(\"csv\") \\\n",
    "    .option(\"header\", \"true\") \\\n",
    "    .option(\"sep\", \";\") \\\n",
    "    .mode(\"overwrite\") \\\n",
    "    .save(FINAL_UC_PATH)\n",
    "\n",
    "print(f\"\\n {CSV_FILE_NAME} criado com sucesso!\")"
   ]
  },
  {
   "cell_type": "markdown",
   "metadata": {
    "application/vnd.databricks.v1+cell": {
     "cellMetadata": {},
     "inputWidgets": {},
     "nuid": "2c746b59-9139-47d5-b7a8-a7a1b3534fb5",
     "showTitle": false,
     "tableResultSettingsMap": {},
     "title": ""
    }
   },
   "source": [
    "**Pergunta final:** Enriqueça a base de dados de voos com as condições meteorológicas \n",
    "(velocidade do vento) para os aeroportos de origem e destino. Mostre as informações \n",
    "enriquecidas **apenas** para os 5 voos com maior atraso na chegada. "
   ]
  },
  {
   "cell_type": "code",
   "execution_count": 0,
   "metadata": {
    "application/vnd.databricks.v1+cell": {
     "cellMetadata": {
      "byteLimit": 2048000,
      "rowLimit": 10000
     },
     "inputWidgets": {},
     "nuid": "d79b73b6-0666-4a73-9f15-f1c2efa390eb",
     "showTitle": false,
     "tableResultSettingsMap": {},
     "title": ""
    }
   },
   "outputs": [
    {
     "data": {
      "text/html": [
       "<style scoped>\n",
       "  .table-result-container {\n",
       "    max-height: 300px;\n",
       "    overflow: auto;\n",
       "  }\n",
       "  table, th, td {\n",
       "    border: 1px solid black;\n",
       "    border-collapse: collapse;\n",
       "  }\n",
       "  th, td {\n",
       "    padding: 5px;\n",
       "  }\n",
       "  th {\n",
       "    text-align: left;\n",
       "  }\n",
       "</style><div class='table-result-container'><table class='table-result'><thead style='background-color: white'><tr><th>id</th><th>carrier</th><th>flight</th><th>origin</th><th>dest</th><th>arr_delay</th><th>sched_arr_time</th><th>origin_latitude</th><th>origin_longitude</th><th>dest_latitude</th><th>dest_longitude</th><th>wind_spd_origin</th><th>wind_spd_dest</th></tr></thead><tbody><tr><td>7072</td><td>HA</td><td>51</td><td>JFK</td><td>HNL</td><td>1272.0</td><td>1530</td><td>40.639801</td><td>-73.7789</td><td>21.32062</td><td>-157.924228</td><td>3.5</td><td>5.5</td></tr><tr><td>235778</td><td>MQ</td><td>3535</td><td>JFK</td><td>CMH</td><td>1127.0</td><td>2120</td><td>40.639801</td><td>-73.7789</td><td>39.998001</td><td>-82.891899</td><td>4.1</td><td>1.9</td></tr><tr><td>8239</td><td>MQ</td><td>3695</td><td>EWR</td><td>ORD</td><td>1109.0</td><td>1810</td><td>40.692501</td><td>-74.168701</td><td>41.9786</td><td>-87.9048</td><td>4.1</td><td>4.1</td></tr><tr><td>327043</td><td>AA</td><td>177</td><td>JFK</td><td>SFO</td><td>1007.0</td><td>2210</td><td>40.639801</td><td>-73.7789</td><td>37.61899948120117</td><td>-122.375</td><td>3.7</td><td>4.3</td></tr><tr><td>270376</td><td>MQ</td><td>3075</td><td>JFK</td><td>CVG</td><td>989.0</td><td>1815</td><td>40.639801</td><td>-73.7789</td><td>39.048801</td><td>-84.667801</td><td>3.2</td><td>2.3</td></tr></tbody></table></div>"
      ]
     },
     "metadata": {
      "application/vnd.databricks.v1+output": {
       "addedWidgets": {},
       "aggData": [],
       "aggError": "",
       "aggOverflow": false,
       "aggSchema": [],
       "aggSeriesLimitReached": false,
       "aggType": "",
       "arguments": {},
       "columnCustomDisplayInfos": {},
       "data": [
        [
         7072,
         "HA",
         51,
         "JFK",
         "HNL",
         1272,
         1530,
         40.639801,
         -73.7789,
         21.32062,
         -157.924228,
         3.5,
         5.5
        ],
        [
         235778,
         "MQ",
         3535,
         "JFK",
         "CMH",
         1127,
         2120,
         40.639801,
         -73.7789,
         39.998001,
         -82.891899,
         4.1,
         1.9
        ],
        [
         8239,
         "MQ",
         3695,
         "EWR",
         "ORD",
         1109,
         1810,
         40.692501,
         -74.168701,
         41.9786,
         -87.9048,
         4.1,
         4.1
        ],
        [
         327043,
         "AA",
         177,
         "JFK",
         "SFO",
         1007,
         2210,
         40.639801,
         -73.7789,
         37.61899948120117,
         -122.375,
         3.7,
         4.3
        ],
        [
         270376,
         "MQ",
         3075,
         "JFK",
         "CVG",
         989,
         1815,
         40.639801,
         -73.7789,
         39.048801,
         -84.667801,
         3.2,
         2.3
        ]
       ],
       "datasetInfos": [],
       "dbfsResultPath": null,
       "isJsonSchema": true,
       "metadata": {},
       "overflow": false,
       "plotOptions": {
        "customPlotOptions": {},
        "displayType": "table",
        "pivotAggregation": null,
        "pivotColumns": null,
        "xColumns": null,
        "yColumns": null
       },
       "removedWidgets": [],
       "schema": [
        {
         "metadata": "{}",
         "name": "id",
         "type": "\"integer\""
        },
        {
         "metadata": "{}",
         "name": "carrier",
         "type": "\"string\""
        },
        {
         "metadata": "{}",
         "name": "flight",
         "type": "\"integer\""
        },
        {
         "metadata": "{}",
         "name": "origin",
         "type": "\"string\""
        },
        {
         "metadata": "{}",
         "name": "dest",
         "type": "\"string\""
        },
        {
         "metadata": "{}",
         "name": "arr_delay",
         "type": "\"double\""
        },
        {
         "metadata": "{}",
         "name": "sched_arr_time",
         "type": "\"integer\""
        },
        {
         "metadata": "{}",
         "name": "origin_latitude",
         "type": "\"double\""
        },
        {
         "metadata": "{}",
         "name": "origin_longitude",
         "type": "\"double\""
        },
        {
         "metadata": "{}",
         "name": "dest_latitude",
         "type": "\"double\""
        },
        {
         "metadata": "{}",
         "name": "dest_longitude",
         "type": "\"double\""
        },
        {
         "metadata": "{}",
         "name": "wind_spd_origin",
         "type": "\"double\""
        },
        {
         "metadata": "{}",
         "name": "wind_spd_dest",
         "type": "\"double\""
        }
       ],
       "type": "table"
      }
     },
     "output_type": "display_data"
    }
   ],
   "source": [
    "df_aeroportos_enriched = (\n",
    "    df_aeroportos_coordinates.select(\n",
    "        \"id\",\n",
    "        \"carrier\",\n",
    "        \"flight\",\n",
    "        \"origin\",\n",
    "        \"dest\",\n",
    "        \"arr_delay\",\n",
    "        \"sched_arr_time\",\n",
    "        \"origin_latitude\",\n",
    "        \"origin_longitude\",\n",
    "        \"dest_latitude\",\n",
    "        \"dest_longitude\",\n",
    "    )\n",
    "    .join(\n",
    "        df_aeroportos_wind.withColumnRenamed(\"wind_spd\", \"wind_spd_origin\")\n",
    "                          .withColumnRenamed(\"id\", \"id_origin\")\n",
    "                          .withColumnRenamed(\"location\", \"location_origin\"),\n",
    "        (col(\"id\") == col(\"id_origin\")) & (col(\"origin\") == col(\"location_origin\")),\n",
    "        \"left\"\n",
    "    ).drop(\"id_origin\", \"location_origin\")\n",
    "    .join(\n",
    "        df_aeroportos_wind.withColumnRenamed(\"wind_spd\", \"wind_spd_dest\")\n",
    "                          .withColumnRenamed(\"id\", \"id_dest\")\n",
    "                          .withColumnRenamed(\"location\", \"location_dest\"),\n",
    "        (col(\"id\") == col(\"id_dest\")) & (col(\"dest\") == col(\"location_dest\")),\n",
    "        \"left\"\n",
    "    ).drop(\"id_dest\", \"location_dest\")\n",
    "    .select(\n",
    "        \"id\",\n",
    "        \"carrier\",\n",
    "        \"flight\",\n",
    "        \"origin\",\n",
    "        \"dest\",\n",
    "        \"arr_delay\",\n",
    "        \"sched_arr_time\",\n",
    "        \"origin_latitude\",\n",
    "        \"origin_longitude\",\n",
    "        \"dest_latitude\",\n",
    "        \"dest_longitude\",\n",
    "        \"wind_spd_origin\",\n",
    "        \"wind_spd_dest\"\n",
    "    )\n",
    "    .orderBy(desc(\"arr_delay\"))\n",
    "    .limit(5)\n",
    ")\n",
    "\n",
    "display(df_aeroportos_enriched)"
   ]
  },
  {
   "cell_type": "code",
   "execution_count": 0,
   "metadata": {
    "application/vnd.databricks.v1+cell": {
     "cellMetadata": {
      "byteLimit": 2048000,
      "rowLimit": 10000
     },
     "inputWidgets": {},
     "nuid": "e9b88f1e-599d-41dc-8aaa-fea8842ca655",
     "showTitle": false,
     "tableResultSettingsMap": {},
     "title": ""
    }
   },
   "outputs": [
    {
     "name": "stdout",
     "output_type": "stream",
     "text": [
      "\n",
      " aeroportos_enriched.csv criado com sucesso!\n"
     ]
    }
   ],
   "source": [
    "UC_VOLUME_PATH = '/Volumes/airports_database/default/airports_database/'\n",
    "CSV_FILE_NAME = 'aeroportos_enriched.csv'\n",
    "FINAL_UC_PATH = UC_VOLUME_PATH + CSV_FILE_NAME\n",
    "\n",
    "df_aeroportos_enriched.coalesce(1).write.format(\"csv\") \\\n",
    "    .option(\"header\", \"true\") \\\n",
    "    .option(\"sep\", \";\") \\\n",
    "    .mode(\"overwrite\") \\\n",
    "    .save(FINAL_UC_PATH)\n",
    "\n",
    "print(f\"\\n {CSV_FILE_NAME} criado com sucesso!\")"
   ]
  }
 ],
 "metadata": {
  "application/vnd.databricks.v1+notebook": {
   "computePreferences": null,
   "dashboards": [],
   "environmentMetadata": {
    "base_environment": "",
    "environment_version": "4"
   },
   "inputWidgetPreferences": null,
   "language": "python",
   "notebookMetadata": {
    "pythonIndentUnit": 4
   },
   "notebookName": "Transform",
   "widgets": {}
  },
  "language_info": {
   "name": "python"
  }
 },
 "nbformat": 4,
 "nbformat_minor": 0
}
